{
 "cells": [
  {
   "cell_type": "code",
   "execution_count": 1,
   "metadata": {},
   "outputs": [],
   "source": [
    "import numpy as np\n",
    "import matplotlib.pyplot as plt\n",
    "import seaborn as sns\n",
    "import pandas as pd\n",
    "import random\n",
    "import json \n",
    "from pandas.io.json import json_normalize\n",
    "\n",
    "\n",
    "df = pd.read_csv(\"/Users/veillonpaul-armand/Documents/Projets/Data/Carto/COMARR_conso.csv\",sep = ';')\n",
    "df2 = pd.read_csv('/Users/veillonpaul-armand/Documents/Projets/Data/Carto/correspondance-code-insee-code-postal.csv',sep=\";\")\n",
    "df2=df2.drop([\"Code Canton\",\"Code Arrondissement\",\"ID Geofla\",\"Commune\",\"Département\",\"Région\"],axis=1)\n",
    "\n"
   ]
  },
  {
   "cell_type": "code",
   "execution_count": 2,
   "metadata": {},
   "outputs": [
    {
     "data": {
      "text/html": [
       "<div>\n",
       "<style scoped>\n",
       "    .dataframe tbody tr th:only-of-type {\n",
       "        vertical-align: middle;\n",
       "    }\n",
       "\n",
       "    .dataframe tbody tr th {\n",
       "        vertical-align: top;\n",
       "    }\n",
       "\n",
       "    .dataframe thead th {\n",
       "        text-align: right;\n",
       "    }\n",
       "</style>\n",
       "<table border=\"1\" class=\"dataframe\">\n",
       "  <thead>\n",
       "    <tr style=\"text-align: right;\">\n",
       "      <th></th>\n",
       "      <th>CODGEO</th>\n",
       "      <th>LIBGEO</th>\n",
       "      <th>DEP</th>\n",
       "      <th>NATURE_EPCI</th>\n",
       "      <th>ZE2010</th>\n",
       "      <th>UU2010</th>\n",
       "      <th>TUU2015</th>\n",
       "      <th>TDUU2015</th>\n",
       "      <th>AU2010</th>\n",
       "      <th>TAU2015</th>\n",
       "      <th>...</th>\n",
       "      <th>Statut</th>\n",
       "      <th>Altitude Moyenne</th>\n",
       "      <th>Superficie</th>\n",
       "      <th>Population</th>\n",
       "      <th>Code Commune</th>\n",
       "      <th>Code Département</th>\n",
       "      <th>Code Région</th>\n",
       "      <th>Counts</th>\n",
       "      <th>POP_CP</th>\n",
       "      <th>POP_mean_CP</th>\n",
       "    </tr>\n",
       "  </thead>\n",
       "  <tbody>\n",
       "    <tr>\n",
       "      <th>0</th>\n",
       "      <td>1001</td>\n",
       "      <td>L'Abergement-Clémenciat</td>\n",
       "      <td>1</td>\n",
       "      <td>CC</td>\n",
       "      <td>8213.0</td>\n",
       "      <td>1000</td>\n",
       "      <td>0.0</td>\n",
       "      <td>5.0</td>\n",
       "      <td>997</td>\n",
       "      <td>0.0</td>\n",
       "      <td>...</td>\n",
       "      <td>Commune simple</td>\n",
       "      <td>242.0</td>\n",
       "      <td>1565.0</td>\n",
       "      <td>0.8</td>\n",
       "      <td>1</td>\n",
       "      <td>1</td>\n",
       "      <td>82</td>\n",
       "      <td>10</td>\n",
       "      <td>11.0</td>\n",
       "      <td>2.654545</td>\n",
       "    </tr>\n",
       "    <tr>\n",
       "      <th>1</th>\n",
       "      <td>1002</td>\n",
       "      <td>L'Abergement-de-Varey</td>\n",
       "      <td>1</td>\n",
       "      <td>CC</td>\n",
       "      <td>8201.0</td>\n",
       "      <td>1000</td>\n",
       "      <td>0.0</td>\n",
       "      <td>4.0</td>\n",
       "      <td>2</td>\n",
       "      <td>9.0</td>\n",
       "      <td>...</td>\n",
       "      <td>Commune simple</td>\n",
       "      <td>483.0</td>\n",
       "      <td>912.0</td>\n",
       "      <td>0.2</td>\n",
       "      <td>2</td>\n",
       "      <td>1</td>\n",
       "      <td>82</td>\n",
       "      <td>4</td>\n",
       "      <td>4.1</td>\n",
       "      <td>1.631707</td>\n",
       "    </tr>\n",
       "    <tr>\n",
       "      <th>2</th>\n",
       "      <td>1004</td>\n",
       "      <td>Ambérieu-en-Bugey</td>\n",
       "      <td>1</td>\n",
       "      <td>CC</td>\n",
       "      <td>8201.0</td>\n",
       "      <td>1302</td>\n",
       "      <td>3.0</td>\n",
       "      <td>32.0</td>\n",
       "      <td>2</td>\n",
       "      <td>9.0</td>\n",
       "      <td>...</td>\n",
       "      <td>Chef-lieu canton</td>\n",
       "      <td>379.0</td>\n",
       "      <td>2448.0</td>\n",
       "      <td>13.4</td>\n",
       "      <td>4</td>\n",
       "      <td>1</td>\n",
       "      <td>82</td>\n",
       "      <td>8</td>\n",
       "      <td>22.6</td>\n",
       "      <td>8.618584</td>\n",
       "    </tr>\n",
       "    <tr>\n",
       "      <th>3</th>\n",
       "      <td>1005</td>\n",
       "      <td>Ambérieux-en-Dombes</td>\n",
       "      <td>1</td>\n",
       "      <td>CC</td>\n",
       "      <td>8213.0</td>\n",
       "      <td>1000</td>\n",
       "      <td>0.0</td>\n",
       "      <td>6.0</td>\n",
       "      <td>2</td>\n",
       "      <td>9.0</td>\n",
       "      <td>...</td>\n",
       "      <td>Commune simple</td>\n",
       "      <td>290.0</td>\n",
       "      <td>1605.0</td>\n",
       "      <td>1.6</td>\n",
       "      <td>5</td>\n",
       "      <td>1</td>\n",
       "      <td>82</td>\n",
       "      <td>8</td>\n",
       "      <td>7.8</td>\n",
       "      <td>2.782051</td>\n",
       "    </tr>\n",
       "    <tr>\n",
       "      <th>4</th>\n",
       "      <td>1006</td>\n",
       "      <td>Ambléon</td>\n",
       "      <td>1</td>\n",
       "      <td>CC</td>\n",
       "      <td>8216.0</td>\n",
       "      <td>1000</td>\n",
       "      <td>0.0</td>\n",
       "      <td>3.0</td>\n",
       "      <td>998</td>\n",
       "      <td>0.0</td>\n",
       "      <td>...</td>\n",
       "      <td>Commune simple</td>\n",
       "      <td>589.0</td>\n",
       "      <td>602.0</td>\n",
       "      <td>0.1</td>\n",
       "      <td>6</td>\n",
       "      <td>1</td>\n",
       "      <td>82</td>\n",
       "      <td>23</td>\n",
       "      <td>19.1</td>\n",
       "      <td>4.298953</td>\n",
       "    </tr>\n",
       "  </tbody>\n",
       "</table>\n",
       "<p>5 rows × 24 columns</p>\n",
       "</div>"
      ],
      "text/plain": [
       "  CODGEO                   LIBGEO DEP NATURE_EPCI  ZE2010 UU2010  TUU2015  \\\n",
       "0   1001  L'Abergement-Clémenciat   1          CC  8213.0   1000      0.0   \n",
       "1   1002    L'Abergement-de-Varey   1          CC  8201.0   1000      0.0   \n",
       "2   1004        Ambérieu-en-Bugey   1          CC  8201.0   1302      3.0   \n",
       "3   1005      Ambérieux-en-Dombes   1          CC  8213.0   1000      0.0   \n",
       "4   1006                  Ambléon   1          CC  8216.0   1000      0.0   \n",
       "\n",
       "   TDUU2015 AU2010  TAU2015     ...                Statut Altitude Moyenne  \\\n",
       "0       5.0    997      0.0     ...        Commune simple            242.0   \n",
       "1       4.0      2      9.0     ...        Commune simple            483.0   \n",
       "2      32.0      2      9.0     ...      Chef-lieu canton            379.0   \n",
       "3       6.0      2      9.0     ...        Commune simple            290.0   \n",
       "4       3.0    998      0.0     ...        Commune simple            589.0   \n",
       "\n",
       "  Superficie Population Code Commune  Code Département  Code Région  Counts  \\\n",
       "0     1565.0        0.8            1                 1           82      10   \n",
       "1      912.0        0.2            2                 1           82       4   \n",
       "2     2448.0       13.4            4                 1           82       8   \n",
       "3     1605.0        1.6            5                 1           82       8   \n",
       "4      602.0        0.1            6                 1           82      23   \n",
       "\n",
       "   POP_CP POP_mean_CP  \n",
       "0    11.0    2.654545  \n",
       "1     4.1    1.631707  \n",
       "2    22.6    8.618584  \n",
       "3     7.8    2.782051  \n",
       "4    19.1    4.298953  \n",
       "\n",
       "[5 rows x 24 columns]"
      ]
     },
     "execution_count": 2,
     "metadata": {},
     "output_type": "execute_result"
    }
   ],
   "source": [
    "#Merge on df\n",
    "df=df.merge(df2,how=\"right\",left_on=\"CODGEO\", right_on=\"Code INSEE\")\n",
    "\n",
    "#Pour les codes postales avec plusieur communes, assignés au CP la population moyenne pondérée des villages\n",
    "df['Counts'] = df.groupby(['Code Postal'])['CODGEO'].transform('count')\n",
    "df['POP_CP'] = df.groupby(['Code Postal'])['Population'].transform('sum')\n",
    "df['POP_mean_CP']=df['Population'] **2/df['POP_CP']\n",
    "df['POP_mean_CP']=df.groupby(['Code Postal'])['POP_mean_CP'].transform('sum')\n",
    "df.head(5)\n",
    "\n",
    "\n"
   ]
  },
  {
   "cell_type": "code",
   "execution_count": 3,
   "metadata": {},
   "outputs": [
    {
     "name": "stdout",
     "output_type": "stream",
     "text": [
      "CP_TUU\n",
      "0.0    14535\n",
      "1.0     7315\n",
      "2.0     4607\n",
      "3.0     2500\n",
      "4.0     2210\n",
      "5.0     1181\n",
      "6.0      766\n",
      "7.0     1759\n",
      "8.0      523\n",
      "Name: CODGEO, dtype: int64\n"
     ]
    }
   ],
   "source": [
    "df['CP_TUU']=df.groupby(['Code Postal'])['TUU2015'].transform(\"max\")\n",
    "print(df.groupby(['CP_TUU'])['CODGEO'].count())\n",
    "\n",
    "df=df[[\"Code Région\",\"Code Département\",\"Code Postal\",\"Code INSEE\",\"Counts\",\"POP_CP\",\"POP_mean_CP\",\"CP_TUU\",\"LIBGEO\"]]\n",
    "df=df.drop_duplicates([\"Code Région\",\"Code Département\",\"Code Postal\"])\n",
    "\n"
   ]
  },
  {
   "cell_type": "code",
   "execution_count": 4,
   "metadata": {},
   "outputs": [],
   "source": [
    "\n",
    "df.groupby(['CP_TUU'])['Code INSEE'].count()\n",
    "vec=df.loc[df[\"Code Postal\"].str.find(\"/\")!=(-1),\"Code Postal\"]\n",
    "\n",
    "\n"
   ]
  },
  {
   "cell_type": "code",
   "execution_count": 5,
   "metadata": {},
   "outputs": [
    {
     "name": "stderr",
     "output_type": "stream",
     "text": [
      "/Users/veillonpaul-armand/anaconda3/lib/python3.6/site-packages/ipykernel_launcher.py:9: SettingWithCopyWarning: \n",
      "A value is trying to be set on a copy of a slice from a DataFrame.\n",
      "Try using .loc[row_indexer,col_indexer] = value instead\n",
      "\n",
      "See the caveats in the documentation: http://pandas.pydata.org/pandas-docs/stable/indexing.html#indexing-view-versus-copy\n",
      "  if __name__ == '__main__':\n"
     ]
    },
    {
     "data": {
      "text/html": [
       "<div>\n",
       "<style scoped>\n",
       "    .dataframe tbody tr th:only-of-type {\n",
       "        vertical-align: middle;\n",
       "    }\n",
       "\n",
       "    .dataframe tbody tr th {\n",
       "        vertical-align: top;\n",
       "    }\n",
       "\n",
       "    .dataframe thead th {\n",
       "        text-align: right;\n",
       "    }\n",
       "</style>\n",
       "<table border=\"1\" class=\"dataframe\">\n",
       "  <thead>\n",
       "    <tr style=\"text-align: right;\">\n",
       "      <th></th>\n",
       "      <th>Code Région</th>\n",
       "      <th>Code Département</th>\n",
       "      <th>Code Postal</th>\n",
       "      <th>Code INSEE</th>\n",
       "      <th>Counts</th>\n",
       "      <th>POP_CP</th>\n",
       "      <th>POP_mean_CP</th>\n",
       "      <th>CP_TUU</th>\n",
       "      <th>LIBGEO</th>\n",
       "    </tr>\n",
       "  </thead>\n",
       "  <tbody>\n",
       "    <tr>\n",
       "      <th>0</th>\n",
       "      <td>82</td>\n",
       "      <td>1</td>\n",
       "      <td>1400</td>\n",
       "      <td>1001</td>\n",
       "      <td>10</td>\n",
       "      <td>11.0</td>\n",
       "      <td>2.654545</td>\n",
       "      <td>1.0</td>\n",
       "      <td>L'Abergement-Clémenciat</td>\n",
       "    </tr>\n",
       "    <tr>\n",
       "      <th>1</th>\n",
       "      <td>82</td>\n",
       "      <td>1</td>\n",
       "      <td>1640</td>\n",
       "      <td>1002</td>\n",
       "      <td>4</td>\n",
       "      <td>4.1</td>\n",
       "      <td>1.631707</td>\n",
       "      <td>1.0</td>\n",
       "      <td>L'Abergement-de-Varey</td>\n",
       "    </tr>\n",
       "    <tr>\n",
       "      <th>2</th>\n",
       "      <td>82</td>\n",
       "      <td>1</td>\n",
       "      <td>1500</td>\n",
       "      <td>1004</td>\n",
       "      <td>8</td>\n",
       "      <td>22.6</td>\n",
       "      <td>8.618584</td>\n",
       "      <td>3.0</td>\n",
       "      <td>Ambérieu-en-Bugey</td>\n",
       "    </tr>\n",
       "    <tr>\n",
       "      <th>3</th>\n",
       "      <td>82</td>\n",
       "      <td>1</td>\n",
       "      <td>1330</td>\n",
       "      <td>1005</td>\n",
       "      <td>8</td>\n",
       "      <td>7.8</td>\n",
       "      <td>2.782051</td>\n",
       "      <td>1.0</td>\n",
       "      <td>Ambérieux-en-Dombes</td>\n",
       "    </tr>\n",
       "    <tr>\n",
       "      <th>4</th>\n",
       "      <td>82</td>\n",
       "      <td>1</td>\n",
       "      <td>1300</td>\n",
       "      <td>1006</td>\n",
       "      <td>23</td>\n",
       "      <td>19.1</td>\n",
       "      <td>4.298953</td>\n",
       "      <td>3.0</td>\n",
       "      <td>Ambléon</td>\n",
       "    </tr>\n",
       "  </tbody>\n",
       "</table>\n",
       "</div>"
      ],
      "text/plain": [
       "   Code Région Code Département Code Postal Code INSEE  Counts  POP_CP  \\\n",
       "0           82                1        1400       1001      10    11.0   \n",
       "1           82                1        1640       1002       4     4.1   \n",
       "2           82                1        1500       1004       8    22.6   \n",
       "3           82                1        1330       1005       8     7.8   \n",
       "4           82                1        1300       1006      23    19.1   \n",
       "\n",
       "   POP_mean_CP  CP_TUU                   LIBGEO  \n",
       "0     2.654545     1.0  L'Abergement-Clémenciat  \n",
       "1     1.631707     1.0    L'Abergement-de-Varey  \n",
       "2     8.618584     3.0        Ambérieu-en-Bugey  \n",
       "3     2.782051     1.0      Ambérieux-en-Dombes  \n",
       "4     4.298953     3.0                  Ambléon  "
      ]
     },
     "execution_count": 5,
     "metadata": {},
     "output_type": "execute_result"
    }
   ],
   "source": [
    "vec=df.loc[df[\"Code Postal\"].str.find(\"/\")!=(-1),\"Code Postal\"]\n",
    "m=df.shape[0] \n",
    "\n",
    "for i in vec:\n",
    "    cp=i.split(\"/\")\n",
    "    df_bis=df[df[\"Code Postal\"]==i] \n",
    "   \n",
    "    for j in cp:\n",
    "        df_bis[\"Code Postal\"]=j\n",
    "        df=pd.concat([df,df_bis])\n",
    "\n",
    "df.reset_index(inplace=True)\n",
    "df.drop(columns=['index'],inplace=True)\n",
    "df=df[~df[\"Code Postal\"].isin(vec)]\n",
    "df.head(5)\n",
    "\n",
    "\n",
    "    "
   ]
  },
  {
   "cell_type": "code",
   "execution_count": 6,
   "metadata": {},
   "outputs": [],
   "source": [
    "df.to_csv(\"/Users/veillonpaul-armand/Documents/Projets/Data/Carto/CP_conso.csv\")"
   ]
  },
  {
   "cell_type": "code",
   "execution_count": 7,
   "metadata": {},
   "outputs": [],
   "source": [
    "#Merge with data grand débat\n",
    "with open(\"/Users/veillonpaul-armand/Documents/Projets/Data/LA_FISCALITE_ET_LES_DEPENSES_PUBLIQUES_short.json\") as json_file:\n",
    "    json_data = json.load(json_file) # or geojson.load(json_file)\n",
    "df_GN=json_normalize(json_data)\n",
    "df_GN['Thème']=\"Fiscalité\"\n",
    "\n",
    "with open(\"/Users/veillonpaul-armand/Documents/Projets/Data/LA_TRANSITION_ECOLOGIQUE_short.json\") as json_file:\n",
    "    json_data = json.load(json_file) # or geojson.load(json_file)\n",
    "df_GN1=json_normalize(json_data)\n",
    "df_GN1['Thème']=\"Transition Ecologique\"\n",
    "df_GN=pd.concat([df_GN,df_GN1])\n",
    "\n",
    "with open(\"/Users/veillonpaul-armand/Documents/Projets/Data/ORGANISATION_DE_LETAT_ET_DES_SERVICES_PUBLICS_short.json\") as json_file:\n",
    "    json_data = json.load(json_file) # or geojson.load(json_file)\n",
    "df_GN1=json_normalize(json_data)\n",
    "df_GN1['Thème']=\"Organisation de l'Etat\"\n",
    "df_GN=pd.concat([df_GN,df_GN1])\n",
    "\n",
    "with open(\"/Users/veillonpaul-armand/Documents/Projets/Data/DEMOCRATIE_ET_CITOYENNETE_short.json\") as json_file:\n",
    "    json_data = json.load(json_file) # or geojson.load(json_file)\n",
    "df_GN1=json_normalize(json_data)\n",
    "df_GN1['Thème']=\"Démocratie et Citoyenneté\"\n",
    "df_GN=pd.concat([df_GN,df_GN1])\n",
    "\n",
    "del df_GN1\n",
    "del json_data"
   ]
  },
  {
   "cell_type": "code",
   "execution_count": 8,
   "metadata": {},
   "outputs": [
    {
     "data": {
      "text/plain": [
       "DEP\n",
       "0      2818\n",
       "1      2843\n",
       "2      1080\n",
       "3      1109\n",
       "4       913\n",
       "5       816\n",
       "6      4727\n",
       "7      1718\n",
       "8       652\n",
       "9       658\n",
       "10      836\n",
       "11     1560\n",
       "12     1106\n",
       "13     8205\n",
       "14     2241\n",
       "15      571\n",
       "16     1032\n",
       "17     2913\n",
       "18      950\n",
       "19      768\n",
       "20      720\n",
       "21     2346\n",
       "22     2139\n",
       "23      517\n",
       "24     1687\n",
       "25     1778\n",
       "26     2426\n",
       "27     1814\n",
       "28     1431\n",
       "29     3393\n",
       "      ...  \n",
       "69     9709\n",
       "70      666\n",
       "71     1838\n",
       "72     1667\n",
       "73     2010\n",
       "74     3475\n",
       "75    14735\n",
       "76     3516\n",
       "77     4346\n",
       "78     8312\n",
       "79     1079\n",
       "80     1201\n",
       "81     1607\n",
       "82      876\n",
       "83     4691\n",
       "84     2217\n",
       "85     2218\n",
       "86     1400\n",
       "87     1433\n",
       "88     1127\n",
       "89      980\n",
       "90      536\n",
       "91     4674\n",
       "92     8822\n",
       "93     2465\n",
       "94     4656\n",
       "95     3250\n",
       "96        4\n",
       "97     1587\n",
       "98      230\n",
       "Name: reference, Length: 99, dtype: int64"
      ]
     },
     "execution_count": 8,
     "metadata": {},
     "output_type": "execute_result"
    }
   ],
   "source": [
    "\n",
    "#Cleaning CP\n",
    "df_GN[\"authorZipCode\"]=pd.to_numeric(df_GN[\"authorZipCode\"])\n",
    "df_GN.loc[df_GN[\"authorZipCode\"]<1000,\"authorZipCode\"]=np.nan\n",
    "df_GN.loc[df_GN[\"authorZipCode\"]>98999,\"authorZipCode\"]=np.nan\n",
    "df_GN[\"DEP\"]=df_GN[\"authorZipCode\"]/1000\n",
    "df_GN[\"DEP\"]=df_GN[\"DEP\"].fillna(0).astype('int')\n",
    "df_GN.groupby(['DEP'])['reference'].count()\n",
    "\n",
    "\n"
   ]
  },
  {
   "cell_type": "code",
   "execution_count": 9,
   "metadata": {},
   "outputs": [],
   "source": [
    "#Create table at dep level\n",
    "pop = pd.read_csv(\"/Users/veillonpaul-armand/Documents/Projets/Data/Carto/pop_dep.csv\",sep = ';')\n",
    "\n",
    "#All contributions\n",
    "all_ref=df_GN.groupby(['DEP'])['reference'].count()\n",
    "all_ref=all_ref.to_frame()\n",
    "pop=pop.merge(all_ref,how=\"left\",on=\"DEP\")\n",
    "pop.rename( columns={\"reference\": \"Count_all\",\"Total\":\"Population\"},inplace=True)\n",
    "pop[\"Count_all\"]=pd.to_numeric(pop[\"Count_all\"])\n",
    "pop[\"Count_pourmil\"]=pop[\"Count_all\"]/pop[\"Population\"]*1000\n",
    "\n",
    "#Fisca\n",
    "all_ref=df_GN[df_GN[\"Thème\"]==\"Fiscalité\"].groupby(['DEP'])['reference'].count()\n",
    "all_ref=all_ref.to_frame()\n",
    "pop=pop.merge(all_ref,how=\"left\",on=\"DEP\")\n",
    "pop.rename( columns={\"reference\": \"Count_fisca\"},inplace=True)\n",
    "pop[\"Count_fisca\"]=pd.to_numeric(pop[\"Count_fisca\"])\n",
    "pop[\"perc_fisca\"]=pop[\"Count_fisca\"]/pop[\"Count_all\"]\n",
    "\n",
    "#Ecologie\n",
    "all_ref=df_GN[df_GN[\"Thème\"]==\"Transition Ecologique\"].groupby(['DEP'])['reference'].count()\n",
    "all_ref=all_ref.to_frame()\n",
    "pop=pop.merge(all_ref,how=\"left\",on=\"DEP\")\n",
    "pop.rename( columns={\"reference\": \"Count_ecolo\"},inplace=True)\n",
    "pop[\"Count_ecolo\"]=pd.to_numeric(pop[\"Count_ecolo\"])\n",
    "pop[\"perc_ecolo\"]=pop[\"Count_ecolo\"]/pop[\"Count_all\"]\n",
    "\n",
    "#Citoyenneté\n",
    "all_ref=df_GN[df_GN[\"Thème\"]==\"Démocratie et Citoyenneté\"].groupby(['DEP'])['reference'].count()\n",
    "all_ref=all_ref.to_frame()\n",
    "pop=pop.merge(all_ref,how=\"left\",on=\"DEP\")\n",
    "pop.rename( columns={\"reference\": \"Count_cit\"},inplace=True)\n",
    "pop[\"Count_cit\"]=pd.to_numeric(pop[\"Count_cit\"])\n",
    "pop[\"perc_cit\"]=pop[\"Count_cit\"]/pop[\"Count_all\"]\n",
    "\n",
    "#Etat\n",
    "all_ref=df_GN[df_GN[\"Thème\"]==\"Organisation de l'Etat\"].groupby(['DEP'])['reference'].count()\n",
    "all_ref=all_ref.to_frame()\n",
    "pop=pop.merge(all_ref,how=\"left\",on=\"DEP\")\n",
    "pop.rename( columns={\"reference\": \"Count_etat\"},inplace=True)\n",
    "pop[\"Count_etat\"]=pd.to_numeric(pop[\"Count_etat\"])\n",
    "pop[\"perc_etat\"]=pop[\"Count_etat\"]/pop[\"Count_all\"]\n",
    "\n",
    "pop.to_csv(\"/Users/veillonpaul-armand/Documents/Projets/Data/Carto/GN_conso_dep_level.csv\")"
   ]
  },
  {
   "cell_type": "code",
   "execution_count": null,
   "metadata": {},
   "outputs": [],
   "source": []
  },
  {
   "cell_type": "code",
   "execution_count": 10,
   "metadata": {},
   "outputs": [
    {
     "data": {
      "text/plain": [
       "<matplotlib.axes._subplots.AxesSubplot at 0x1a272e9128>"
      ]
     },
     "execution_count": 10,
     "metadata": {},
     "output_type": "execute_result"
    },
    {
     "data": {
      "image/png": "[encoded data removed]",
      "text/plain": [
       "<Figure size 432x288 with 1 Axes>"
      ]
     },
     "metadata": {},
     "output_type": "display_data"
    }
   ],
   "source": [
    "pop[\"Count_pourmil\"].hist()"
   ]
  },
  {
   "cell_type": "code",
   "execution_count": 11,
   "metadata": {},
   "outputs": [
    {
     "data": {
      "text/plain": [
       "<matplotlib.axes._subplots.AxesSubplot at 0x1a272e4b70>"
      ]
     },
     "execution_count": 11,
     "metadata": {},
     "output_type": "execute_result"
    },
    {
     "data": {
      "image/png": "[encoded data removed]",
      "text/plain": [
       "<Figure size 432x288 with 1 Axes>"
      ]
     },
     "metadata": {},
     "output_type": "display_data"
    }
   ],
   "source": [
    "pop[\"perc_fisca\"].hist()"
   ]
  },
  {
   "cell_type": "code",
   "execution_count": 12,
   "metadata": {},
   "outputs": [
    {
     "data": {
      "text/plain": [
       "<matplotlib.axes._subplots.AxesSubplot at 0x1a26d04fd0>"
      ]
     },
     "execution_count": 12,
     "metadata": {},
     "output_type": "execute_result"
    },
    {
     "data": {
      "image/png": "[encoded data removed]",
      "text/plain": [
       "<Figure size 432x288 with 1 Axes>"
      ]
     },
     "metadata": {},
     "output_type": "display_data"
    }
   ],
   "source": [
    "pop[\"perc_ecolo\"].hist()"
   ]
  },
  {
   "cell_type": "code",
   "execution_count": 13,
   "metadata": {},
   "outputs": [
    {
     "data": {
      "text/plain": [
       "<matplotlib.axes._subplots.AxesSubplot at 0x1a26c85eb8>"
      ]
     },
     "execution_count": 13,
     "metadata": {},
     "output_type": "execute_result"
    },
    {
     "data": {
      "image/png": "[encoded data removed]",
      "text/plain": [
       "<Figure size 432x288 with 1 Axes>"
      ]
     },
     "metadata": {},
     "output_type": "display_data"
    }
   ],
   "source": [
    "pop[\"perc_etat\"].hist()"
   ]
  },
  {
   "cell_type": "code",
   "execution_count": 14,
   "metadata": {},
   "outputs": [
    {
     "data": {
      "text/plain": [
       "<matplotlib.axes._subplots.AxesSubplot at 0x1a2685d438>"
      ]
     },
     "execution_count": 14,
     "metadata": {},
     "output_type": "execute_result"
    },
    {
     "data": {
      "image/png": "[encoded data removed]",
      "text/plain": [
       "<Figure size 432x288 with 1 Axes>"
      ]
     },
     "metadata": {},
     "output_type": "display_data"
    }
   ],
   "source": [
    "pop[\"perc_cit\"].hist()"
   ]
  },
  {
   "cell_type": "code",
   "execution_count": null,
   "metadata": {},
   "outputs": [],
   "source": []
  }
 ],
 "metadata": {
  "kernelspec": {
   "display_name": "Python 3",
   "language": "python",
   "name": "python3"
  },
  "language_info": {
   "codemirror_mode": {
    "name": "ipython",
    "version": 3
   },
   "file_extension": ".py",
   "mimetype": "text/x-python",
   "name": "python",
   "nbconvert_exporter": "python",
   "pygments_lexer": "ipython3",
   "version": "3.6.5"
  }
 },
 "nbformat": 4,
 "nbformat_minor": 2
}
