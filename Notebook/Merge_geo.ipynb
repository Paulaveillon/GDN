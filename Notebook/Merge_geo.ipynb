{
 "cells": [
  {
   "cell_type": "code",
   "execution_count": 53,
   "metadata": {},
   "outputs": [],
   "source": [
    "import numpy as np\n",
    "import matplotlib.pyplot as plt\n",
    "import seaborn as sns\n",
    "import pandas as pd\n",
    "import random\n",
    "import json \n",
    "from pandas.io.json import json_normalize\n",
    "\n",
    "\n",
    "#Charger données type de commune (aire urbaine....)\n",
    "df = pd.read_csv(\"/Users/veillonpaul-armand/Documents/Projets/Data/Carto/COMARR_conso.csv\",sep = ';')\n",
    "#Charger base code insee/code postal \n",
    "df2 = pd.read_csv('/Users/veillonpaul-armand/Documents/Projets/Data/Carto/correspondance-code-insee-code-postal.csv',sep=\";\")\n",
    "df2=df2.drop([\"Code Canton\",\"Code Arrondissement\",\"ID Geofla\",\"Commune\",\"Département\",\"Région\"],axis=1)\n",
    "\n",
    "\n",
    "\n"
   ]
  },
  {
   "cell_type": "code",
   "execution_count": 54,
   "metadata": {},
   "outputs": [
    {
     "name": "stdout",
     "output_type": "stream",
     "text": [
      "Index(['P15_POP', 'P15_POP65P', 'C15_POP15P', 'C15_POP15P_CS1',\n",
      "       'C15_POP15P_CS2', 'C15_POP15P_CS3', 'C15_POP15P_CS4', 'C15_POP15P_CS5',\n",
      "       'C15_POP15P_CS6', 'C15_POP15P_CS7', 'C15_POP15P_CS8', 'P15_POP_FR',\n",
      "       'P15_POP_ETR', 'P15_POP_IMM', 'COM', 'MED14'],\n",
      "      dtype='object')\n"
     ]
    },
    {
     "name": "stderr",
     "output_type": "stream",
     "text": [
      "/Users/veillonpaul-armand/anaconda3/lib/python3.6/site-packages/ipykernel_launcher.py:36: FutureWarning: 'COM' is both an index level and a column label.\n",
      "Defaulting to column, but this will raise an ambiguity error in a future version\n"
     ]
    }
   ],
   "source": [
    "### Ajouter des variable au level commune\n",
    "\n",
    "\n",
    "#Base IRIS complete populatin\n",
    "df_iris = pd.read_excel(\"/Users/veillonpaul-armand/Documents/Projets/Data/Carto/base-ic-evol-struct-pop-2015.xls\", sheet_name='IRIS')\n",
    "df_iris=df_iris.drop(df.index[[0,1,2,3]])\n",
    "df_iris.columns = list(df_iris.iloc[0,:])\n",
    "df_iris=df_iris.drop(df_iris.index[[0]])\n",
    "df_iris.head(5)\n",
    "\n",
    "# At the com level\n",
    "\n",
    "#Create a data.frame at the com level\n",
    "df_com=df_iris.groupby(['COM'])['P15_POP'].sum()\n",
    "df_com=df_com.to_frame()\n",
    "df_com.head(5)\n",
    "\n",
    "#Calcul variable add the COM level:\n",
    "var=[\"P15_POP65P\",\"C15_POP15P\",\"C15_POP15P_CS1\",\"C15_POP15P_CS2\",\n",
    "     \"C15_POP15P_CS3\",\"C15_POP15P_CS4\",\"C15_POP15P_CS5\",\"C15_POP15P_CS6\",\n",
    "     \"C15_POP15P_CS7\",\"C15_POP15P_CS8\",\"P15_POP_FR\",\"P15_POP_ETR\",\"P15_POP_IMM\"]\n",
    "for i in var:\n",
    "    df_com_bis=df_iris.groupby(['COM'])[i].sum()\n",
    "    df_com_bis=df_com_bis.to_frame()\n",
    "    df_com=df_com.merge(df_com_bis,how=\"left\",on=\"COM\")\n",
    " \n",
    "#Mettre le code insee au bon format (supprimer le zero si pas cors)\n",
    "df_com.head(5)\n",
    "df_com[\"COM\"]=df_com.index\n",
    "df_com.loc[df_com[\"COM\"].str[0]==\"0\",\"COM\"]=df_com.loc[df_com[\"COM\"].str[0]==\"0\",\"COM\"].str[1:]\n",
    "\n",
    "\n",
    "#Ajouter la variable niveau de vie\n",
    "df_rev = pd.read_csv(\"/Users/veillonpaul-armand/Documents/Projets/Data/Carto/niveaudevie_COM.csv\",sep=\";\",decimal=',')\n",
    "df_rev=df_rev.iloc[:,0:2]\n",
    "df_com=df_com.merge(df_rev,how=\"left\",on=\"COM\")\n",
    "\n",
    "print(df_com.columns)\n",
    "\n",
    "#Merge with the code postal code insee database\n",
    "df2=df2.merge(df_com,how=\"left\",left_on=\"Code INSEE\", right_on=\"COM\")\n",
    "\n",
    "del df_iris, df_com_bis,df_com, df_rev\n"
   ]
  },
  {
   "cell_type": "code",
   "execution_count": 55,
   "metadata": {},
   "outputs": [],
   "source": [
    "#Merge on df\n",
    "df=df.merge(df2,how=\"left\",left_on=\"CODGEO\", right_on=\"Code INSEE\")\n",
    "\n",
    "#Pour les codes postales avec plusieur communes, assignés au CP la population moyenne pondérée des villages\n",
    "df['Counts'] = df.groupby(['Code Postal'])['CODGEO'].transform('count')\n",
    "df['POP_CP'] = df.groupby(['Code Postal'])['P15_POP'].transform('sum')\n",
    "\n",
    "#Calculer la moyenne de la taille des communes pour chaque CP\n",
    "df['POP_mean_CP']=df['P15_POP'] **2/df['POP_CP']\n",
    "df['POP_mean_CP']=df.groupby(['Code Postal'])['POP_mean_CP'].transform('sum')\n",
    "\n",
    "#Calculer la moyenne pondérée pour toutes ces variables\n",
    "var=['P15_POP',\"P15_POP65P\",\"C15_POP15P\",\"C15_POP15P_CS1\",\"C15_POP15P_CS2\",\n",
    "     \"C15_POP15P_CS3\",\"C15_POP15P_CS4\",\"C15_POP15P_CS5\",\"C15_POP15P_CS6\",\n",
    "     \"C15_POP15P_CS7\",\"C15_POP15P_CS8\",\"P15_POP_FR\",\"P15_POP_ETR\",\"P15_POP_IMM\"]\n",
    "var_mean=list()\n",
    "for i in var:\n",
    "    df[i+\"mean_CP\"]=df[i]/df['POP_CP'] \n",
    "    df[i+'mean_CP']=df.groupby(['Code Postal'])[i+'mean_CP'].transform('sum')\n",
    "    var_mean.append(i+'mean_CP') \n",
    "\n",
    "#Calculer moyenne pondérée revenu en tenant compte des NAN\n",
    "df[\"rev_CP\"]=df.groupby(['Code Postal'])[\"MED14\"].transform('mean')\n",
    "\n",
    "#REPLace null value par the value of the CP\n",
    "df.loc[df[\"MED14\"].isnull(),\"MED14\"]=df.loc[df[\"MED14\"].isnull(),\"rev_CP\"]\n",
    "df[\"rev_CP\"]=df['P15_POP']*df[\"MED14\"]/df['POP_CP']\n",
    "df[\"rev_CP\"]=df.groupby(['Code Postal'])[\"rev_CP\"].transform('sum')\n",
    "\n",
    "\n"
   ]
  },
  {
   "cell_type": "code",
   "execution_count": 56,
   "metadata": {
    "scrolled": true
   },
   "outputs": [],
   "source": [
    "#Assigné la taille d'unité urbaine pour chaque code postal (si différent pour un même code postal, assigné le max)\n",
    "df['CP_TUU']=df.groupby(['Code Postal'])['TUU2015'].transform(\"max\")\n",
    "df=df[[\"Code Région\",\"Code Département\",\"Code Postal\",\"Code INSEE\",\"Counts\",\"POP_CP\",\"POP_mean_CP\",\"CP_TUU\",\"LIBGEO\",\"rev_CP\"]+var_mean]\n",
    "df=df.drop_duplicates([\"Code Région\",\"Code Département\",\"Code Postal\"])\n",
    "df=df[~df.isnull().any(axis=1)]\n",
    "\n",
    "\n",
    "\n"
   ]
  },
  {
   "cell_type": "code",
   "execution_count": 57,
   "metadata": {},
   "outputs": [
    {
     "name": "stderr",
     "output_type": "stream",
     "text": [
      "/Users/veillonpaul-armand/anaconda3/lib/python3.6/site-packages/ipykernel_launcher.py:10: SettingWithCopyWarning: \n",
      "A value is trying to be set on a copy of a slice from a DataFrame.\n",
      "Try using .loc[row_indexer,col_indexer] = value instead\n",
      "\n",
      "See the caveats in the documentation: http://pandas.pydata.org/pandas-docs/stable/indexing.html#indexing-view-versus-copy\n",
      "  # Remove the CWD from sys.path while we load stuff.\n"
     ]
    }
   ],
   "source": [
    "#Si commune avec plusieurs code postaux, dupliquer la ligne avec le même code postal\n",
    "\n",
    "vec=df.loc[df[\"Code Postal\"].str.find(\"/\")!=(-1),\"Code Postal\"]\n",
    "\n",
    "for i in vec:\n",
    "    cp=i.split(\"/\")\n",
    "    df_bis=df[df[\"Code Postal\"]==i] \n",
    "   \n",
    "    for j in cp:\n",
    "        df_bis[\"Code Postal\"]=j\n",
    "        df=pd.concat([df,df_bis])\n",
    "\n",
    "df.reset_index(inplace=True)\n",
    "df.drop(columns=['index'],inplace=True)\n",
    "df=df[~df[\"Code Postal\"].isin(vec)]\n",
    "df[\"Code Postal\"]=pd.to_numeric(df[\"Code Postal\"])\n",
    "\n",
    "#Assigner le quantile de revenu du code postal\n",
    "vec=np.linspace(0.1,0.9,9)\n",
    "df[\"quantile_rev\"]=0\n",
    "df.loc[df[\"rev_CP\"].isnull(),\"quantile_rev\"]=np.nan\n",
    "for i in vec:\n",
    "    df.loc[df[\"rev_CP\"]>df[\"rev_CP\"].quantile(i),\"quantile_rev\"]=i\n",
    "    \n",
    "#Assigner le quantile de CSP Ouvrier du code postal\n",
    "vec=np.linspace(0.1,0.9,9)\n",
    "df[\"quantile_ouv\"]=0\n",
    "df.loc[df[ \"C15_POP15P_CS6mean_CP\"].isnull(),\"quantile_ouv\"]=np.nan\n",
    "for i in vec:\n",
    "    df.loc[df[\"C15_POP15P_CS6mean_CP\"]>df[\"C15_POP15P_CS6mean_CP\"].quantile(i),\"quantile_ouv\"]=i    \n",
    "\n",
    "#Assigner le quantile de CSP+ du code postal\n",
    "vec=np.linspace(0.1,0.9,9)\n",
    "df[\"quantile_CSP+\"]=0\n",
    "df.loc[df[ \"C15_POP15P_CS3mean_CP\"].isnull(),\"quantile_CSP+\"]=np.nan\n",
    "for i in vec:\n",
    "    df.loc[df[\"C15_POP15P_CS3mean_CP\"]>df[\"C15_POP15P_CS3mean_CP\"].quantile(i),\"quantile_CSP+\"]=i      \n",
    "\n",
    "#Assigner le quantile de Retraité du code postal\n",
    "vec=np.linspace(0.1,0.9,9)\n",
    "df[\"quantile_retired\"]=0\n",
    "df.loc[df[ \"C15_POP15P_CS7mean_CP\"].isnull(),\"quantile_retired\"]=np.nan\n",
    "for i in vec:\n",
    "    df.loc[df[\"C15_POP15P_CS7mean_CP\"]>df[\"C15_POP15P_CS7mean_CP\"].quantile(i),\"quantile_retired\"]=i  \n",
    "\n",
    "#Assigner le quantile employé  du code postal\n",
    "vec=np.linspace(0.1,0.9,9)\n",
    "df[\"quantile_emp\"]=0\n",
    "df.loc[df[ \"C15_POP15P_CS5mean_CP\"].isnull(),\"quantile_emp\"]=np.nan\n",
    "for i in vec:\n",
    "    df.loc[df[\"C15_POP15P_CS5mean_CP\"]>df[\"C15_POP15P_CS5mean_CP\"].quantile(i),\"quantile_emp\"]=i       "
   ]
  },
  {
   "cell_type": "code",
   "execution_count": 58,
   "metadata": {},
   "outputs": [],
   "source": [
    "\n",
    "df.to_csv(\"/Users/veillonpaul-armand/Documents/Projets/Data/Carto/CP_conso.csv\")"
   ]
  },
  {
   "cell_type": "code",
   "execution_count": 7,
   "metadata": {},
   "outputs": [
    {
     "data": {
      "text/plain": [
       "Thème\n",
       "Démocratie et Citoyenneté    49026\n",
       "Fiscalité                    85931\n",
       "Organisation de l'Etat       51618\n",
       "Transition Ecologique        64669\n",
       "Name: reference, dtype: int64"
      ]
     },
     "execution_count": 7,
     "metadata": {},
     "output_type": "execute_result"
    }
   ],
   "source": [
    "#Merge with data grand débat\n",
    "with open(\"/Users/veillonpaul-armand/Documents/Projets/Data/LA_FISCALITE_ET_LES_DEPENSES_PUBLIQUES_short.json\") as json_file:\n",
    "    json_data = json.load(json_file) # or geojson.load(json_file)\n",
    "df_GN=json_normalize(json_data)\n",
    "df_GN=df_GN.drop(df_GN.columns[0],axis=1)\n",
    "df_GN['Thème']=\"Fiscalité\"\n",
    "\n",
    "\n",
    "with open(\"/Users/veillonpaul-armand/Documents/Projets/Data/LA_TRANSITION_ECOLOGIQUE_short.json\") as json_file:\n",
    "    json_data = json.load(json_file) # or geojson.load(json_file)\n",
    "df_GN1=json_normalize(json_data)\n",
    "df_GN1=df_GN1.drop(list(df_GN1.columns[:6]),axis=1)\n",
    "df_GN1['Thème']=\"Transition Ecologique\"\n",
    "df_GN=pd.concat([df_GN,df_GN1])\n",
    "\n",
    "with open(\"/Users/veillonpaul-armand/Documents/Projets/Data/ORGANISATION_DE_LETAT_ET_DES_SERVICES_PUBLICS_short.json\") as json_file:\n",
    "    json_data = json.load(json_file) # or geojson.load(json_file)\n",
    "df_GN1=json_normalize(json_data)\n",
    "df_GN1=df_GN1.drop(list(df_GN1.columns[:8]),axis=1)\n",
    "df_GN1['Thème']=\"Organisation de l'Etat\"\n",
    "df_GN=pd.concat([df_GN,df_GN1])\n",
    "\n",
    "with open(\"/Users/veillonpaul-armand/Documents/Projets/Data/DEMOCRATIE_ET_CITOYENNETE_short.json\") as json_file:\n",
    "    json_data = json.load(json_file) # or geojson.load(json_file)\n",
    "df_GN1=json_normalize(json_data)\n",
    "df_GN1=df_GN1.drop(list(df_GN1.columns[:6]),axis=1)\n",
    "df_GN1['Thème']=\"Démocratie et Citoyenneté\"\n",
    "df_GN=pd.concat([df_GN,df_GN1])\n",
    "\n",
    "#del df_GN1\n",
    "del json_data\n",
    "\n",
    "df_GN.groupby(['Thème'])['reference'].count()"
   ]
  },
  {
   "cell_type": "code",
   "execution_count": 8,
   "metadata": {},
   "outputs": [],
   "source": [
    "\n",
    "#Cleaning CP, le CP est renseigné par l'utilisateur, ne garder que les valeurs plausibles\n",
    "df_GN[\"authorZipCode\"]=pd.to_numeric(df_GN[\"authorZipCode\"])\n",
    "df_GN.loc[df_GN[\"authorZipCode\"]<1000,\"authorZipCode\"]=np.nan\n",
    "df_GN.loc[df_GN[\"authorZipCode\"]>98999,\"authorZipCode\"]=np.nan\n",
    "df_GN[\"DEP\"]=df_GN[\"authorZipCode\"]/1000\n",
    "df_GN[\"DEP\"]=df_GN[\"DEP\"].fillna(0).astype('int')\n",
    "\n",
    "\n",
    "\n",
    "\n"
   ]
  },
  {
   "cell_type": "code",
   "execution_count": 10,
   "metadata": {},
   "outputs": [],
   "source": [
    "#Create table at dep level and cp_level\n",
    "pop = pd.read_csv(\"/Users/veillonpaul-armand/Documents/Projets/Data/Carto/pop_dep.csv\",sep = ';')\n",
    "\n",
    "#All contributions\n",
    "all_ref=df_GN.groupby(['DEP'])['reference'].count()\n",
    "all_ref=all_ref.to_frame()\n",
    "pop=pop.merge(all_ref,how=\"left\",on=\"DEP\")\n",
    "pop.rename( columns={\"reference\": \"Count_all\",\"Total\":\"Population\"},inplace=True)\n",
    "pop[\"Count_all\"]=pd.to_numeric(pop[\"Count_all\"])\n",
    "pop[\"Count_pourmil\"]=pop[\"Count_all\"]/pop[\"Population\"]*1000\n",
    "\n",
    "all_ref=df_GN.groupby([\"authorZipCode\"])['reference'].count()\n",
    "all_ref=all_ref.to_frame()\n",
    "df=df.merge(all_ref,how=\"left\", right_on=\"authorZipCode\",left_on=\"Code Postal\")\n",
    "df.rename( columns={\"reference\": \"Count_all_CP\",},inplace=True)\n",
    "df[\"Count_all_CP\"]=pd.to_numeric(df[\"Count_all_CP\"])\n",
    "df[\"Count_pourmil_CP\"]=df[\"Count_all_CP\"]/df[\"POP_CP\"]*1000\n",
    "\n",
    "#Trimming outliers\n",
    "df.loc[df[\"Count_pourmil_CP\"]>20,\"Count_pourmil_CP\"]=20\n",
    "\n",
    "\n",
    "#Fisca\n",
    "all_ref=df_GN[df_GN[\"Thème\"]==\"Fiscalité\"].groupby(['DEP'])['reference'].count()\n",
    "all_ref=all_ref.to_frame()\n",
    "pop=pop.merge(all_ref,how=\"left\",on=\"DEP\")\n",
    "pop.rename( columns={\"reference\": \"Count_fisca\"},inplace=True)\n",
    "pop[\"Count_fisca\"]=pd.to_numeric(pop[\"Count_fisca\"])\n",
    "pop[\"perc_fisca\"]=pop[\"Count_fisca\"]/pop[\"Count_all\"]\n",
    "\n",
    "all_ref=df_GN[df_GN[\"Thème\"]==\"Fiscalité\"].groupby([\"authorZipCode\"])['reference'].count()\n",
    "all_ref=all_ref.to_frame()\n",
    "df=df.merge(all_ref,how=\"left\",right_on=\"authorZipCode\",left_on=\"Code Postal\")\n",
    "df.rename( columns={\"reference\": \"Count_fisca_CP\",},inplace=True)\n",
    "df[\"Count_fisca_CP\"]=pd.to_numeric(df[\"Count_fisca_CP\"])\n",
    "df[\"Count_fiscapourmil_CP\"]=df[\"Count_fisca_CP\"]/df[\"POP_CP\"]*1000\n",
    "df[\"perc_fisca\"]=df[\"Count_fisca_CP\"]/df[\"Count_all_CP\"]\n",
    "#Trimming outliers\n",
    "df.loc[df[\"Count_fiscapourmil_CP\"]>10,\"Count_fiscapourmil_CP\"]=10\n",
    "\n",
    "#Ecologie\n",
    "all_ref=df_GN[df_GN[\"Thème\"]==\"Transition Ecologique\"].groupby(['DEP'])['reference'].count()\n",
    "all_ref=all_ref.to_frame()\n",
    "pop=pop.merge(all_ref,how=\"left\",on=\"DEP\")\n",
    "pop.rename( columns={\"reference\": \"Count_ecolo\"},inplace=True)\n",
    "pop[\"Count_ecolo\"]=pd.to_numeric(pop[\"Count_ecolo\"])\n",
    "pop[\"perc_ecolo\"]=pop[\"Count_ecolo\"]/pop[\"Count_all\"]\n",
    "\n",
    "all_ref=df_GN[df_GN[\"Thème\"]==\"Transition Ecologique\"].groupby([\"authorZipCode\"])['reference'].count()\n",
    "all_ref=all_ref.to_frame()\n",
    "df=df.merge(all_ref,how=\"left\",right_on=\"authorZipCode\",left_on=\"Code Postal\")\n",
    "df.rename( columns={\"reference\": \"Count_ecolo_CP\",},inplace=True)\n",
    "df[\"Count_ecolo_CP\"]=pd.to_numeric(df[\"Count_ecolo_CP\"])\n",
    "df[\"Count_ecolopourmil_CP\"]=df[\"Count_ecolo_CP\"]/df[\"POP_CP\"]*1000\n",
    "df[\"perc_ecolo\"]=df[\"Count_ecolo_CP\"]/df[\"Count_all_CP\"]\n",
    "#Trimming outliers\n",
    "df.loc[df[\"Count_ecolopourmil_CP\"]>10,\"Count_ecolopourmil_CP\"]=10\n",
    "\n",
    "#Citoyenneté\n",
    "all_ref=df_GN[df_GN[\"Thème\"]==\"Démocratie et Citoyenneté\"].groupby(['DEP'])['reference'].count()\n",
    "all_ref=all_ref.to_frame()\n",
    "pop=pop.merge(all_ref,how=\"left\",on=\"DEP\")\n",
    "pop.rename( columns={\"reference\": \"Count_cit\"},inplace=True)\n",
    "pop[\"Count_cit\"]=pd.to_numeric(pop[\"Count_cit\"])\n",
    "pop[\"perc_cit\"]=pop[\"Count_cit\"]/pop[\"Count_all\"]\n",
    "\n",
    "all_ref=df_GN[df_GN[\"Thème\"]==\"Démocratie et Citoyenneté\"].groupby([\"authorZipCode\"])['reference'].count()\n",
    "all_ref=all_ref.to_frame()\n",
    "df=df.merge(all_ref,how=\"left\",right_on=\"authorZipCode\",left_on=\"Code Postal\")\n",
    "df.rename( columns={\"reference\": \"Count_cit_CP\",},inplace=True)\n",
    "df[\"Count_cit_CP\"]=pd.to_numeric(df[\"Count_cit_CP\"])\n",
    "df[\"Count_citpourmil_CP\"]=df[\"Count_cit_CP\"]/df[\"POP_CP\"]*1000\n",
    "df[\"perc_cit\"]=df[\"Count_cit_CP\"]/df[\"Count_all_CP\"]\n",
    "#Trimming outliers\n",
    "df.loc[df[\"Count_citpourmil_CP\"]>10,\"Count_citpourmil_CP\"]=10\n",
    "\n",
    "#Etat\n",
    "all_ref=df_GN[df_GN[\"Thème\"]==\"Organisation de l'Etat\"].groupby(['DEP'])['reference'].count()\n",
    "all_ref=all_ref.to_frame()\n",
    "pop=pop.merge(all_ref,how=\"left\",on=\"DEP\")\n",
    "pop.rename( columns={\"reference\": \"Count_etat\"},inplace=True)\n",
    "pop[\"Count_etat\"]=pd.to_numeric(pop[\"Count_etat\"])\n",
    "pop[\"perc_etat\"]=pop[\"Count_etat\"]/pop[\"Count_all\"]\n",
    "\n",
    "\n",
    "all_ref=df_GN[df_GN[\"Thème\"]==\"Organisation de l'Etat\"].groupby([\"authorZipCode\"])['reference'].count()\n",
    "all_ref=all_ref.to_frame()\n",
    "df=df.merge(all_ref,how=\"left\",right_on=\"authorZipCode\",left_on=\"Code Postal\")\n",
    "df.rename( columns={\"reference\": \"Count_etat_CP\",},inplace=True)\n",
    "df[\"Count_etat_CP\"]=pd.to_numeric(df[\"Count_etat_CP\"])\n",
    "df[\"Count_etatpourmil_CP\"]=df[\"Count_etat_CP\"]/df[\"POP_CP\"]*1000\n",
    "df[\"perc_etat\"]=df[\"Count_etat_CP\"]/df[\"Count_all_CP\"]\n",
    "#Trimming outliers\n",
    "df.loc[df[\"Count_etatpourmil_CP\"]>10,\"Count_etatpourmil_CP\"]=10\n",
    "\n",
    "pop.to_csv(\"/Users/veillonpaul-armand/Documents/Projets/Data/Carto/GN_conso_dep_level.csv\")\n",
    "df.to_csv(\"/Users/veillonpaul-armand/Documents/Projets/Data/Carto/GN_conso_CP_level.csv\")"
   ]
  },
  {
   "cell_type": "code",
   "execution_count": 11,
   "metadata": {},
   "outputs": [
    {
     "data": {
      "text/html": [
       "<div>\n",
       "<style scoped>\n",
       "    .dataframe tbody tr th:only-of-type {\n",
       "        vertical-align: middle;\n",
       "    }\n",
       "\n",
       "    .dataframe tbody tr th {\n",
       "        vertical-align: top;\n",
       "    }\n",
       "\n",
       "    .dataframe thead th {\n",
       "        text-align: right;\n",
       "    }\n",
       "</style>\n",
       "<table border=\"1\" class=\"dataframe\">\n",
       "  <thead>\n",
       "    <tr style=\"text-align: right;\">\n",
       "      <th></th>\n",
       "      <th>Code Région</th>\n",
       "      <th>Code Département</th>\n",
       "      <th>Code Postal</th>\n",
       "      <th>Code INSEE</th>\n",
       "      <th>Counts</th>\n",
       "      <th>POP_CP</th>\n",
       "      <th>POP_mean_CP</th>\n",
       "      <th>CP_TUU</th>\n",
       "      <th>LIBGEO</th>\n",
       "      <th>rev_CP</th>\n",
       "      <th>...</th>\n",
       "      <th>perc_fisca</th>\n",
       "      <th>Count_ecolo_CP</th>\n",
       "      <th>Count_ecolopourmil_CP</th>\n",
       "      <th>perc_ecolo</th>\n",
       "      <th>Count_cit_CP</th>\n",
       "      <th>Count_citpourmil_CP</th>\n",
       "      <th>perc_cit</th>\n",
       "      <th>Count_etat_CP</th>\n",
       "      <th>Count_etatpourmil_CP</th>\n",
       "      <th>perc_etat</th>\n",
       "    </tr>\n",
       "  </thead>\n",
       "  <tbody>\n",
       "    <tr>\n",
       "      <th>0</th>\n",
       "      <td>82.0</td>\n",
       "      <td>1</td>\n",
       "      <td>1400</td>\n",
       "      <td>1001</td>\n",
       "      <td>10.0</td>\n",
       "      <td>11153.0</td>\n",
       "      <td>2645.445261</td>\n",
       "      <td>1.0</td>\n",
       "      <td>L'Abergement-Clémenciat</td>\n",
       "      <td>20841.756227</td>\n",
       "      <td>...</td>\n",
       "      <td>0.245614</td>\n",
       "      <td>18.0</td>\n",
       "      <td>1.613916</td>\n",
       "      <td>0.315789</td>\n",
       "      <td>10.0</td>\n",
       "      <td>0.896620</td>\n",
       "      <td>0.175439</td>\n",
       "      <td>15.0</td>\n",
       "      <td>1.344930</td>\n",
       "      <td>0.263158</td>\n",
       "    </tr>\n",
       "    <tr>\n",
       "      <th>1</th>\n",
       "      <td>82.0</td>\n",
       "      <td>1</td>\n",
       "      <td>1640</td>\n",
       "      <td>1002</td>\n",
       "      <td>4.0</td>\n",
       "      <td>4457.0</td>\n",
       "      <td>1739.998878</td>\n",
       "      <td>1.0</td>\n",
       "      <td>L'Abergement-de-Varey</td>\n",
       "      <td>20895.869374</td>\n",
       "      <td>...</td>\n",
       "      <td>0.477273</td>\n",
       "      <td>6.0</td>\n",
       "      <td>1.346197</td>\n",
       "      <td>0.136364</td>\n",
       "      <td>8.0</td>\n",
       "      <td>1.794929</td>\n",
       "      <td>0.181818</td>\n",
       "      <td>9.0</td>\n",
       "      <td>2.019295</td>\n",
       "      <td>0.204545</td>\n",
       "    </tr>\n",
       "    <tr>\n",
       "      <th>2</th>\n",
       "      <td>82.0</td>\n",
       "      <td>1</td>\n",
       "      <td>1500</td>\n",
       "      <td>1004</td>\n",
       "      <td>8.0</td>\n",
       "      <td>24400.0</td>\n",
       "      <td>8962.947131</td>\n",
       "      <td>3.0</td>\n",
       "      <td>Ambérieu-en-Bugey</td>\n",
       "      <td>20599.916213</td>\n",
       "      <td>...</td>\n",
       "      <td>0.303030</td>\n",
       "      <td>37.0</td>\n",
       "      <td>1.516393</td>\n",
       "      <td>0.280303</td>\n",
       "      <td>29.0</td>\n",
       "      <td>1.188525</td>\n",
       "      <td>0.219697</td>\n",
       "      <td>26.0</td>\n",
       "      <td>1.065574</td>\n",
       "      <td>0.196970</td>\n",
       "    </tr>\n",
       "    <tr>\n",
       "      <th>3</th>\n",
       "      <td>82.0</td>\n",
       "      <td>1</td>\n",
       "      <td>1330</td>\n",
       "      <td>1005</td>\n",
       "      <td>8.0</td>\n",
       "      <td>8258.0</td>\n",
       "      <td>2828.144103</td>\n",
       "      <td>1.0</td>\n",
       "      <td>Ambérieux-en-Dombes</td>\n",
       "      <td>22493.157120</td>\n",
       "      <td>...</td>\n",
       "      <td>0.388889</td>\n",
       "      <td>12.0</td>\n",
       "      <td>1.453136</td>\n",
       "      <td>0.333333</td>\n",
       "      <td>7.0</td>\n",
       "      <td>0.847663</td>\n",
       "      <td>0.194444</td>\n",
       "      <td>3.0</td>\n",
       "      <td>0.363284</td>\n",
       "      <td>0.083333</td>\n",
       "    </tr>\n",
       "    <tr>\n",
       "      <th>4</th>\n",
       "      <td>82.0</td>\n",
       "      <td>1</td>\n",
       "      <td>1300</td>\n",
       "      <td>1006</td>\n",
       "      <td>23.0</td>\n",
       "      <td>21066.0</td>\n",
       "      <td>4341.325263</td>\n",
       "      <td>3.0</td>\n",
       "      <td>Ambléon</td>\n",
       "      <td>20055.049540</td>\n",
       "      <td>...</td>\n",
       "      <td>0.344828</td>\n",
       "      <td>24.0</td>\n",
       "      <td>1.139277</td>\n",
       "      <td>0.206897</td>\n",
       "      <td>19.0</td>\n",
       "      <td>0.901927</td>\n",
       "      <td>0.163793</td>\n",
       "      <td>33.0</td>\n",
       "      <td>1.566505</td>\n",
       "      <td>0.284483</td>\n",
       "    </tr>\n",
       "  </tbody>\n",
       "</table>\n",
       "<p>5 rows × 38 columns</p>\n",
       "</div>"
      ],
      "text/plain": [
       "   Code Région Code Département  Code Postal Code INSEE  Counts   POP_CP  \\\n",
       "0         82.0                1         1400       1001    10.0  11153.0   \n",
       "1         82.0                1         1640       1002     4.0   4457.0   \n",
       "2         82.0                1         1500       1004     8.0  24400.0   \n",
       "3         82.0                1         1330       1005     8.0   8258.0   \n",
       "4         82.0                1         1300       1006    23.0  21066.0   \n",
       "\n",
       "   POP_mean_CP  CP_TUU                   LIBGEO        rev_CP    ...      \\\n",
       "0  2645.445261     1.0  L'Abergement-Clémenciat  20841.756227    ...       \n",
       "1  1739.998878     1.0    L'Abergement-de-Varey  20895.869374    ...       \n",
       "2  8962.947131     3.0        Ambérieu-en-Bugey  20599.916213    ...       \n",
       "3  2828.144103     1.0      Ambérieux-en-Dombes  22493.157120    ...       \n",
       "4  4341.325263     3.0                  Ambléon  20055.049540    ...       \n",
       "\n",
       "   perc_fisca  Count_ecolo_CP  Count_ecolopourmil_CP  perc_ecolo  \\\n",
       "0    0.245614            18.0               1.613916    0.315789   \n",
       "1    0.477273             6.0               1.346197    0.136364   \n",
       "2    0.303030            37.0               1.516393    0.280303   \n",
       "3    0.388889            12.0               1.453136    0.333333   \n",
       "4    0.344828            24.0               1.139277    0.206897   \n",
       "\n",
       "   Count_cit_CP  Count_citpourmil_CP  perc_cit  Count_etat_CP  \\\n",
       "0          10.0             0.896620  0.175439           15.0   \n",
       "1           8.0             1.794929  0.181818            9.0   \n",
       "2          29.0             1.188525  0.219697           26.0   \n",
       "3           7.0             0.847663  0.194444            3.0   \n",
       "4          19.0             0.901927  0.163793           33.0   \n",
       "\n",
       "   Count_etatpourmil_CP  perc_etat  \n",
       "0              1.344930   0.263158  \n",
       "1              2.019295   0.204545  \n",
       "2              1.065574   0.196970  \n",
       "3              0.363284   0.083333  \n",
       "4              1.566505   0.284483  \n",
       "\n",
       "[5 rows x 38 columns]"
      ]
     },
     "execution_count": 11,
     "metadata": {},
     "output_type": "execute_result"
    }
   ],
   "source": [
    "df.head(5)\n"
   ]
  },
  {
   "cell_type": "code",
   "execution_count": 12,
   "metadata": {},
   "outputs": [
    {
     "data": {
      "text/plain": [
       "0.19897140228959267"
      ]
     },
     "execution_count": 12,
     "metadata": {},
     "output_type": "execute_result"
    }
   ],
   "source": [
    "df[\"P15_POP65Pmean_CP\"].median()"
   ]
  },
  {
   "cell_type": "code",
   "execution_count": 13,
   "metadata": {},
   "outputs": [],
   "source": [
    "vec=df.loc[df[\"P15_POP65Pmean_CP\"]<df[\"P15_POP65Pmean_CP\"].median(),\"Count_pourmil_CP\"]\n",
    "vec1=df.loc[df[\"P15_POP65Pmean_CP\"]>df[\"P15_POP65Pmean_CP\"].median(),\"Count_pourmil_CP\"]"
   ]
  },
  {
   "cell_type": "code",
   "execution_count": 14,
   "metadata": {},
   "outputs": [
    {
     "data": {
      "text/plain": [
       "<matplotlib.axes._subplots.AxesSubplot at 0x1a1ea47b38>"
      ]
     },
     "execution_count": 14,
     "metadata": {},
     "output_type": "execute_result"
    },
    {
     "data": {
      "image/png": "[encoded data removed]",
      "text/plain": [
       "<Figure size 432x288 with 1 Axes>"
      ]
     },
     "metadata": {},
     "output_type": "display_data"
    }
   ],
   "source": [
    "vec[vec<10].hist()\n"
   ]
  },
  {
   "cell_type": "code",
   "execution_count": 15,
   "metadata": {},
   "outputs": [],
   "source": [
    "vec=df.loc[df[\"C15_POP15P_CS3mean_CP\"]<df[\"C15_POP15P_CS3mean_CP\"].quantile(0.1),\"Count_pourmil_CP\"]\n",
    "vec1=df.loc[df[\"C15_POP15P_CS3mean_CP\"]>df[\"C15_POP15P_CS3mean_CP\"].quantile(0.9),\"Count_pourmil_CP\"]"
   ]
  },
  {
   "cell_type": "code",
   "execution_count": 16,
   "metadata": {},
   "outputs": [
    {
     "data": {
      "text/plain": [
       "<matplotlib.axes._subplots.AxesSubplot at 0x1a1e991ef0>"
      ]
     },
     "execution_count": 16,
     "metadata": {},
     "output_type": "execute_result"
    },
    {
     "data": {
      "image/png": "[encoded data removed]",
      "text/plain": [
       "<Figure size 432x288 with 1 Axes>"
      ]
     },
     "metadata": {},
     "output_type": "display_data"
    }
   ],
   "source": [
    "vec[vec<12].hist()"
   ]
  },
  {
   "cell_type": "code",
   "execution_count": 17,
   "metadata": {},
   "outputs": [
    {
     "data": {
      "text/plain": [
       "<matplotlib.axes._subplots.AxesSubplot at 0x1a1e9db4a8>"
      ]
     },
     "execution_count": 17,
     "metadata": {},
     "output_type": "execute_result"
    },
    {
     "data": {
      "image/png": "[encoded data removed]",
      "text/plain": [
       "<Figure size 432x288 with 1 Axes>"
      ]
     },
     "metadata": {},
     "output_type": "display_data"
    }
   ],
   "source": [
    "vec1[vec1<12].hist()"
   ]
  },
  {
   "cell_type": "code",
   "execution_count": 18,
   "metadata": {},
   "outputs": [],
   "source": [
    "vec=df.loc[df[\"P15_POP65Pmean_CP\"]<df[\"P15_POP65Pmean_CP\"].quantile(0.3),\"Count_pourmil_CP\"]\n",
    "vec1=df.loc[df[\"P15_POP65Pmean_CP\"]>df[\"P15_POP65Pmean_CP\"].quantile(0.7),\"Count_pourmil_CP\"]"
   ]
  },
  {
   "cell_type": "code",
   "execution_count": 19,
   "metadata": {},
   "outputs": [
    {
     "data": {
      "text/plain": [
       "<matplotlib.axes._subplots.AxesSubplot at 0x1a1e97f400>"
      ]
     },
     "execution_count": 19,
     "metadata": {},
     "output_type": "execute_result"
    },
    {
     "data": {
      "image/png": "[encoded data removed]",
      "text/plain": [
       "<Figure size 432x288 with 1 Axes>"
      ]
     },
     "metadata": {},
     "output_type": "display_data"
    }
   ],
   "source": [
    "vec1[vec1<12].hist()"
   ]
  },
  {
   "cell_type": "code",
   "execution_count": 20,
   "metadata": {},
   "outputs": [
    {
     "data": {
      "text/plain": [
       "<matplotlib.axes._subplots.AxesSubplot at 0x1a1e78dac8>"
      ]
     },
     "execution_count": 20,
     "metadata": {},
     "output_type": "execute_result"
    },
    {
     "data": {
      "image/png": "[encoded data removed]",
      "text/plain": [
       "<Figure size 432x288 with 1 Axes>"
      ]
     },
     "metadata": {},
     "output_type": "display_data"
    }
   ],
   "source": [
    "vec[vec<12].hist()"
   ]
  },
  {
   "cell_type": "code",
   "execution_count": null,
   "metadata": {},
   "outputs": [],
   "source": []
  }
 ],
 "metadata": {
  "kernelspec": {
   "display_name": "Python 3",
   "language": "python",
   "name": "python3"
  },
  "language_info": {
   "codemirror_mode": {
    "name": "ipython",
    "version": 3
   },
   "file_extension": ".py",
   "mimetype": "text/x-python",
   "name": "python",
   "nbconvert_exporter": "python",
   "pygments_lexer": "ipython3",
   "version": "3.6.5"
  }
 },
 "nbformat": 4,
 "nbformat_minor": 2
}
