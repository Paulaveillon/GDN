{
 "cells": [
  {
   "cell_type": "code",
   "execution_count": 1,
   "metadata": {},
   "outputs": [
    {
     "name": "stdout",
     "output_type": "stream",
     "text": [
      "  CODGEO                   LIBGEO DEP NATURE_EPCI  ZE2010 UU2010  TUU2015  \\\n",
      "0   1001  L'Abergement-Clémenciat   1          CC    8213   1000        0   \n",
      "1   1002    L'Abergement-de-Varey   1          CC    8201   1000        0   \n",
      "2   1004        Ambérieu-en-Bugey   1          CC    8201   1302        3   \n",
      "3   1005      Ambérieux-en-Dombes   1          CC    8213   1000        0   \n",
      "4   1006                  Ambléon   1          CC    8216   1000        0   \n",
      "\n",
      "   TDUU2015 AU2010  TAU2015  CATAEU2010 BV2012  \n",
      "0         5    997        0         120   1093  \n",
      "1         4      2        9         112   1004  \n",
      "2        32      2        9         112   1004  \n",
      "3         6      2        9         112  69123  \n",
      "4         3    998        0         300   1034  \n",
      "  Code INSEE Code Postal                Commune     Département  \\\n",
      "0      32460       32720             VERGOIGNAN            GERS   \n",
      "1      51141       51240  LA CHAUSSEE-SUR-MARNE           MARNE   \n",
      "2      77130       77580              COULOMMES  SEINE-ET-MARNE   \n",
      "3      63379       63460             SAINT-MYON     PUY-DE-DOME   \n",
      "4      62050       62770       AUCHY-LES-HESDIN   PAS-DE-CALAIS   \n",
      "\n",
      "               Région          Statut  Altitude Moyenne  Superficie  \\\n",
      "0       MIDI-PYRENEES  Commune simple             126.0      1056.0   \n",
      "1   CHAMPAGNE-ARDENNE  Commune simple             130.0      2240.0   \n",
      "2       ILE-DE-FRANCE  Commune simple             136.0       371.0   \n",
      "3            AUVERGNE  Commune simple             365.0       556.0   \n",
      "4  NORD-PAS-DE-CALAIS  Commune simple              72.0       986.0   \n",
      "\n",
      "   Population  ID Geofla  Code Commune  Code Canton  Code Arrondissement  \\\n",
      "0         0.3      34962           460           24                    3   \n",
      "1         0.7      18178           141           33                    4   \n",
      "2         0.4      31737           130            8                    1   \n",
      "3         0.4      19489           379           14                    4   \n",
      "4         1.7      18166            50           39                    4   \n",
      "\n",
      "  Code Département  Code Région  \n",
      "0               32           73  \n",
      "1               51           21  \n",
      "2               77           11  \n",
      "3               63           83  \n",
      "4               62           31  \n"
     ]
    }
   ],
   "source": [
    "import numpy as np\n",
    "import matplotlib.pyplot as plt\n",
    "import seaborn as sns\n",
    "import pandas as pd\n",
    "import random\n",
    "\n",
    "\n",
    "df = pd.read_csv(\"/Users/veillonpaul-armand/Documents/Projets/Data/Carto/COMARR_conso.csv\",sep = ';')\n",
    "print(df.head(5)) \n",
    "\n",
    "df2 = pd.read_csv('/Users/veillonpaul-armand/Documents/Projets/Data/Carto/correspondance-code-insee-code-postal.csv',sep=\";\")\n",
    "print(df2.head(5)) \n",
    "\n"
   ]
  },
  {
   "cell_type": "code",
   "execution_count": 2,
   "metadata": {},
   "outputs": [],
   "source": [
    "#Merge on df\n",
    "df=df.merge(df2,how=\"right\",left_on=\"CODGEO\", right_on=\"Code INSEE\")\n",
    "df.head(5)\n",
    "df['Counts'] = df.groupby(['Code Postal'])['CODGEO'].transform('count')\n"
   ]
  },
  {
   "cell_type": "code",
   "execution_count": 3,
   "metadata": {},
   "outputs": [
    {
     "data": {
      "text/plain": [
       "0         1.3\n",
       "1         1.7\n",
       "2         1.4\n",
       "3         1.4\n",
       "4         2.7\n",
       "5         3.1\n",
       "6        76.1\n",
       "7         4.2\n",
       "8         1.4\n",
       "9         7.9\n",
       "10        1.0\n",
       "11        1.2\n",
       "12        1.8\n",
       "13        1.1\n",
       "14        2.0\n",
       "15        1.1\n",
       "16       11.4\n",
       "17        1.1\n",
       "18        4.1\n",
       "19        1.4\n",
       "20        1.6\n",
       "21        1.5\n",
       "22        1.1\n",
       "23        1.1\n",
       "24        4.4\n",
       "25        4.8\n",
       "26        2.8\n",
       "27        1.2\n",
       "28        1.3\n",
       "29        1.1\n",
       "         ... \n",
       "36712     1.6\n",
       "36713    15.9\n",
       "36714     1.3\n",
       "36715     7.9\n",
       "36716     1.3\n",
       "36717     1.3\n",
       "36718     1.1\n",
       "36719     1.6\n",
       "36720     1.2\n",
       "36721     1.3\n",
       "36722     8.9\n",
       "36723     1.5\n",
       "36724     1.4\n",
       "36725     2.5\n",
       "36726     1.2\n",
       "36727     2.3\n",
       "36728     2.9\n",
       "36729     1.1\n",
       "36730     2.7\n",
       "36731     1.6\n",
       "36732     2.2\n",
       "36733     2.5\n",
       "36734     1.5\n",
       "36735     1.4\n",
       "36736     1.1\n",
       "36737     1.3\n",
       "36738     2.5\n",
       "36739     1.2\n",
       "36740     1.1\n",
       "36741     1.4\n",
       "Name: Population, Length: 36742, dtype: float64"
      ]
     },
     "execution_count": 3,
     "metadata": {},
     "output_type": "execute_result"
    }
   ],
   "source": [
    "df2[\"Population\"]+1"
   ]
  },
  {
   "cell_type": "code",
   "execution_count": null,
   "metadata": {},
   "outputs": [],
   "source": []
  }
 ],
 "metadata": {
  "kernelspec": {
   "display_name": "Python 3",
   "language": "python",
   "name": "python3"
  },
  "language_info": {
   "codemirror_mode": {
    "name": "ipython",
    "version": 3
   },
   "file_extension": ".py",
   "mimetype": "text/x-python",
   "name": "python",
   "nbconvert_exporter": "python",
   "pygments_lexer": "ipython3",
   "version": "3.6.5"
  }
 },
 "nbformat": 4,
 "nbformat_minor": 2
}
