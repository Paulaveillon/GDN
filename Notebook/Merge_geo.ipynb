{
 "cells": [
  {
   "cell_type": "code",
   "execution_count": 9,
   "metadata": {},
   "outputs": [
    {
     "name": "stdout",
     "output_type": "stream",
     "text": [
      "  CODGEO                   LIBGEO DEP NATURE_EPCI  ZE2010 UU2010  TUU2015  \\\n",
      "0   1001  L'Abergement-Clémenciat   1          CC    8213   1000        0   \n",
      "1   1002    L'Abergement-de-Varey   1          CC    8201   1000        0   \n",
      "2   1004        Ambérieu-en-Bugey   1          CC    8201   1302        3   \n",
      "3   1005      Ambérieux-en-Dombes   1          CC    8213   1000        0   \n",
      "4   1006                  Ambléon   1          CC    8216   1000        0   \n",
      "\n",
      "   TDUU2015 AU2010  TAU2015  CATAEU2010 BV2012  \n",
      "0         5    997        0         120   1093  \n",
      "1         4      2        9         112   1004  \n",
      "2        32      2        9         112   1004  \n",
      "3         6      2        9         112  69123  \n",
      "4         3    998        0         300   1034  \n",
      "   Code INSEE Code Postal               Commune     Département  \\\n",
      "0       77130       77580             COULOMMES  SEINE-ET-MARNE   \n",
      "1       94017       94500   CHAMPIGNY-SUR-MARNE    VAL-DE-MARNE   \n",
      "2       95370       95640               MARINES      VAL-D'OISE   \n",
      "3       91099       91820  BOUTIGNY-SUR-ESSONNE         ESSONNE   \n",
      "4       78601       78120              SONCHAMP        YVELINES   \n",
      "\n",
      "          Région            Statut  Altitude Moyenne  Superficie  Population  \\\n",
      "0  ILE-DE-FRANCE    Commune simple             136.0       371.0         0.4   \n",
      "1  ILE-DE-FRANCE  Chef-lieu canton              67.0      1130.0        75.1   \n",
      "2  ILE-DE-FRANCE  Chef-lieu canton             133.0       831.0         3.2   \n",
      "3  ILE-DE-FRANCE    Commune simple             110.0      1621.0         3.1   \n",
      "4  ILE-DE-FRANCE    Commune simple             160.0      4637.0         1.6   \n",
      "\n",
      "                   geo_point_2d  ID Geofla  Code Commune  Code Canton  \\\n",
      "0  48.8919104938, 2.92942534432      31737           130            8   \n",
      "1   48.817254364, 2.51709815257      32497            17           94   \n",
      "2  49.1480448573, 1.98376019265      34671           370           17   \n",
      "3   48.4361818403, 2.3954223757      19556            99           11   \n",
      "4  48.5880930813, 1.86888636176       4095           601           19   \n",
      "\n",
      "   Code Arrondissement  Code Département  Code Région  \n",
      "0                    1                77           11  \n",
      "1                    2                94           11  \n",
      "2                    3                95           11  \n",
      "3                    1                91           11  \n",
      "4                    2                78           11  \n"
     ]
    }
   ],
   "source": [
    "import numpy as np\n",
    "import matplotlib.pyplot as plt\n",
    "import seaborn as sns\n",
    "import pandas as pd\n",
    "import random\n",
    "\n",
    "\n",
    "df = pd.read_csv(\"/Users/veillonpaul-armand/Documents/Projets/Carto/table-appartenance-geo-communes-18_V2.csv/COM-Tableau 1.csv\",sep = ';')\n",
    "print(df.head(5)) \n",
    "\n",
    "df2 = pd.read_csv('/Users/veillonpaul-armand/Documents/Projets/Carto/correspondances-code-insee-code-postal.csv',sep=\";\")\n",
    "print(df2.head(5)) "
   ]
  },
  {
   "cell_type": "code",
   "execution_count": null,
   "metadata": {},
   "outputs": [],
   "source": []
  }
 ],
 "metadata": {
  "kernelspec": {
   "display_name": "Python 3",
   "language": "python",
   "name": "python3"
  },
  "language_info": {
   "codemirror_mode": {
    "name": "ipython",
    "version": 3
   },
   "file_extension": ".py",
   "mimetype": "text/x-python",
   "name": "python",
   "nbconvert_exporter": "python",
   "pygments_lexer": "ipython3",
   "version": "3.6.5"
  }
 },
 "nbformat": 4,
 "nbformat_minor": 2
}
