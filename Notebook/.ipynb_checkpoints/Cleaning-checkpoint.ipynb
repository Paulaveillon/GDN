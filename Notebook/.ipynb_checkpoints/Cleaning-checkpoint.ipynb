{
 "cells": [
  {
   "cell_type": "code",
   "execution_count": null,
   "metadata": {},
   "outputs": [],
   "source": [
    "import numpy as np\n",
    "import matplotlib.pyplot as plt\n",
    "import seaborn as sns\n",
    "import pandas as pd\n",
    "import random\n",
    "\n",
    "from descartes import PolygonPatch\n",
    "import json \n",
    "import scipy as sp\n",
    "from scipy.sparse import linalg\n",
    "from shapely.geometry import asShape # manipulating geometry\n",
    "\n",
    "\n",
    "##First, extract all info except the responses (too big to bne loaded)\n",
    "\n",
    "\n",
    "#DEMOCRATIE_ET_CITOYENNETE\n",
    "\n",
    "with open(\"/Users/veillonpaul-armand/Documents/Projets/Data/DEMOCRATIE_ET_CITOYENNETE.json\") as json_file:\n",
    "    json_data = json.load(json_file) # or geojson.load(json_file)\n",
    "    \n",
    "l=len(json_data) \n",
    "for i in range(l):\n",
    "    json_data[i].pop(\"responses\")\n",
    "\n",
    "filePath = \"/Users/veillonpaul-armand/Documents/Projets/Data/DEMOCRATIE_ET_CITOYENNETE_short.json\"\n",
    "with open(filePath, 'w') as fp:\n",
    "    json.dump(json_data, fp)\n",
    "\n",
    "\n",
    "#LA_FISCALITE_ET_LES_DEPENSES_PUBLIQUES    \n",
    "with open(\"/Users/veillonpaul-armand/Documents/Projets/Data/LA_FISCALITE_ET_LES_DEPENSES_PUBLIQUES.json\") as json_file:\n",
    "    json_data = json.load(json_file) # or geojson.load(json_file)\n",
    "    \n",
    "l=len(json_data) \n",
    "for i in range(l):\n",
    "    json_data[i].pop(\"responses\")\n",
    "\n",
    "filePath = \"/Users/veillonpaul-armand/Documents/Projets/Data/LA_FISCALITE_ET_LES_DEPENSES_PUBLIQUES_short.json\"\n",
    "with open(filePath, 'w') as fp:\n",
    "    json.dump(json_data, fp)    \n",
    " \n",
    "\n",
    "#LA_TRANSITION_ECOLOGIQUE\n",
    "with open(\"/Users/veillonpaul-armand/Documents/Projets/Data/LA_TRANSITION_ECOLOGIQUE.json\") as json_file:\n",
    "    json_data = json.load(json_file) # or geojson.load(json_file)\n",
    "    \n",
    "l=len(json_data) \n",
    "\n",
    "for i in range(l):\n",
    "    json_data[i].pop(\"responses\")\n",
    "\n",
    "filePath = \"/Users/veillonpaul-armand/Documents/Projets/Data/LA_TRANSITION_ECOLOGIQUE_short.json\"\n",
    "with open(filePath, 'w') as fp:\n",
    "    json.dump(json_data, fp)    \n",
    "    \n",
    "\n",
    "#ORGANISATION_DE_LETAT_ET_DES_SERVICES_PUBLICS    \n",
    "with open(\"/Users/veillonpaul-armand/Documents/Projets/Data/ORGANISATION_DE_LETAT_ET_DES_SERVICES_PUBLICS.json\") as json_file:\n",
    "    json_data = json.load(json_file) # or geojson.load(json_file)\n",
    "    \n",
    "l=len(json_data) \n",
    "\n",
    "for i in range(l):\n",
    "    json_data[i].pop(\"responses\")\n",
    "\n",
    "filePath = \"/Users/veillonpaul-armand/Documents/Projets/Data/ORGANISATION_DE_LETAT_ET_DES_SERVICES_PUBLICS_short.json\"\n",
    "with open(filePath, 'w') as fp:\n",
    "    json.dump(json_data, fp)    \n",
    "    \n",
    "    "
   ]
  },
  {
   "cell_type": "code",
   "execution_count": null,
   "metadata": {},
   "outputs": [],
   "source": []
  },
  {
   "cell_type": "code",
   "execution_count": null,
   "metadata": {},
   "outputs": [],
   "source": []
  },
  {
   "cell_type": "code",
   "execution_count": null,
   "metadata": {},
   "outputs": [],
   "source": [
    "json_data[2]"
   ]
  },
  {
   "cell_type": "code",
   "execution_count": null,
   "metadata": {},
   "outputs": [],
   "source": [
    "json_data[2:10] = []"
   ]
  },
  {
   "cell_type": "code",
   "execution_count": null,
   "metadata": {},
   "outputs": [],
   "source": [
    "json_data[2][\"reference\"]"
   ]
  },
  {
   "cell_type": "code",
   "execution_count": null,
   "metadata": {},
   "outputs": [],
   "source": [
    "json_data[2:10][\"reference\"]"
   ]
  },
  {
   "cell_type": "code",
   "execution_count": null,
   "metadata": {},
   "outputs": [],
   "source": [
    "json_data[2:10] "
   ]
  },
  {
   "cell_type": "code",
   "execution_count": null,
   "metadata": {},
   "outputs": [],
   "source": []
  }
 ],
 "metadata": {
  "kernelspec": {
   "display_name": "Python 3",
   "language": "python",
   "name": "python3"
  },
  "language_info": {
   "codemirror_mode": {
    "name": "ipython",
    "version": 3
   },
   "file_extension": ".py",
   "mimetype": "text/x-python",
   "name": "python",
   "nbconvert_exporter": "python",
   "pygments_lexer": "ipython3",
   "version": "3.6.5"
  }
 },
 "nbformat": 4,
 "nbformat_minor": 2
}
