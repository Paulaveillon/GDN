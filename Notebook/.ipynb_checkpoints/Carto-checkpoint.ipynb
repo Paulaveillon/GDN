{
 "cells": [
  {
   "cell_type": "markdown",
   "metadata": {},
   "source": [
    "# Carto Le Grand Débat"
   ]
  },
  {
   "cell_type": "code",
   "execution_count": null,
   "metadata": {},
   "outputs": [],
   "source": [
    "import numpy as np\n",
    "import matplotlib.pyplot as plt\n",
    "import seaborn as sns\n",
    "import pandas as pd\n",
    "import random\n",
    "import os\n",
    "\n",
    "from descartes import PolygonPatch\n",
    "from sklearn.preprocessing import MinMaxScaler\n",
    "import json \n",
    "import scipy as sp\n",
    "from scipy.sparse import linalg\n",
    "from shapely.geometry import asShape # manipulating geometry\n",
    "from matplotlib.patches import Patch\n",
    "from matplotlib.colors import to_rgb"
   ]
  },
  {
   "cell_type": "code",
   "execution_count": null,
   "metadata": {},
   "outputs": [],
   "source": [
    "if os.getenv(\"HOME\")==\"/home/louis\":\n",
    "    data_folder = \"/home/louis/Documents/Data_science/YJ_PROJECT/Data/Data/\"\n",
    "else:\n",
    "    data_folder = \"\""
   ]
  },
  {
   "cell_type": "markdown",
   "metadata": {},
   "source": [
    "## Load data"
   ]
  },
  {
   "cell_type": "code",
   "execution_count": null,
   "metadata": {},
   "outputs": [],
   "source": [
    "properties = pd.read_csv(data_folder+'Carto/GN_conso_dep_level.csv')\n",
    "properties['DEP']=properties['DEP'].astype(str).str.zfill(2)\n",
    "\n"
   ]
  },
  {
   "cell_type": "code",
   "execution_count": null,
   "metadata": {},
   "outputs": [],
   "source": [
    "with open(data_folder+\"Carto/departements-version-simplifiee.geojson\") as geojson_file:\n",
    "    geojson_data = json.load(geojson_file) # or geojson.load(json_file)"
   ]
  },
  {
   "cell_type": "markdown",
   "metadata": {},
   "source": [
    "## Function for plotting map"
   ]
  },
  {
   "cell_type": "code",
   "execution_count": null,
   "metadata": {},
   "outputs": [],
   "source": [
    "def add_property(geojson_data,properties,prop,k):\n",
    "    n =len(geojson_data[\"features\"])\n",
    "    \n",
    "    properties[prop+\"_norm\"]=pd.cut(properties[prop],k,labels=False)\n",
    "\n",
    "    for i in range(n):\n",
    "        try:\n",
    "            geojson_data[\"features\"][i]['properties'][prop]=properties.loc[properties.DEP==geojson_data[\"features\"][i]['properties']['code'],prop+\"_norm\"].tolist()[0]\n",
    "        except:\n",
    "            print('error for '+str(i))\n",
    "    return geojson_data\n",
    "   "
   ]
  },
  {
   "cell_type": "code",
   "execution_count": null,
   "metadata": {},
   "outputs": [],
   "source": [
    "# we plot the map with Descarte package\n",
    "\n",
    "\n",
    "def plot_map(geojson_data,properties,n):\n",
    "\n",
    "    fig = plt.figure(figsize=(20,20)) # create a figure to contain the plot elements\n",
    "    ax = fig.gca(xlabel=\"Longitude\", ylabel=\"Latitude\")\n",
    "    dic_color ={}\n",
    "\n",
    "    for feat in geojson_data[\"features\"]:\n",
    "        try:\n",
    "            R = 1-float(feat[\"properties\"][properties])/float(n)\n",
    "            G = 0\n",
    "            B = 0\n",
    "            if feat[\"properties\"][properties] not in dic_color.keys():\n",
    "                dic_color[feat[\"properties\"][properties]]=(R,G,B,0.5)\n",
    "        except:\n",
    "            R=1\n",
    "            G=1\n",
    "            B=1\n",
    "        \n",
    "        # convert the geometry to shapely\n",
    "        geom = asShape(feat[\"geometry\"])\n",
    "        # obtain the coordinates of the feature's centroid\n",
    "        x, y = geom.centroid.x, geom.centroid.y\n",
    "        # plot the centroids\n",
    "        ax.plot(x, y, 'ro')\n",
    "        ax.text(x, y, feat[\"properties\"][\"nom\"], fontsize=10)\n",
    "        # plot the polygon features: type help(PolygonPatch) for more args\n",
    "        ax.add_patch(PolygonPatch(feat[\"geometry\"], facecolor=[R,G,B], ec='white',\n",
    "                    alpha=0.5, lw=0.5, ls='--', zorder=2))\n",
    "    legend_elements = [Patch(facecolor=v,label=k) for k,v in sorted(dic_color.items(), key=lambda  item: (item[1], item[0]))]\n",
    "    ax.legend(handles=legend_elements, loc='upper right')"
   ]
  },
  {
   "cell_type": "code",
   "execution_count": null,
   "metadata": {},
   "outputs": [],
   "source": [
    "geojson_data=add_property(geojson_data=geojson_data,properties=properties,prop=\"Count_pourmil\",k=4)\n",
    "plot_map(geojson_data,\"Count_pourmil\",4)\n"
   ]
  },
  {
   "cell_type": "code",
   "execution_count": null,
   "metadata": {},
   "outputs": [],
   "source": [
    "for i in range(len(geojson_data[\"features\"])):\n",
    "    geojson_data[\"features\"][i][geojson_data[\"features\"][i]['properties']['code']]={}\n",
    "    print(geojson_data[\"features\"][i]['properties'])"
   ]
  },
  {
   "cell_type": "code",
   "execution_count": null,
   "metadata": {},
   "outputs": [],
   "source": []
  }
 ],
 "metadata": {
  "kernelspec": {
   "display_name": "Python 3",
   "language": "python",
   "name": "python3"
  },
  "language_info": {
   "codemirror_mode": {
    "name": "ipython",
    "version": 3
   },
   "file_extension": ".py",
   "mimetype": "text/x-python",
   "name": "python",
   "nbconvert_exporter": "python",
   "pygments_lexer": "ipython3",
   "version": "3.6.3"
  }
 },
 "nbformat": 4,
 "nbformat_minor": 2
}
