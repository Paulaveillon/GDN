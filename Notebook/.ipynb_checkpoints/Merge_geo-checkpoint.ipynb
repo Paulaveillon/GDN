{
 "cells": [
  {
   "cell_type": "code",
   "execution_count": null,
   "metadata": {},
   "outputs": [],
   "source": [
    "import numpy as np\n",
    "import matplotlib.pyplot as plt\n",
    "import seaborn as sns\n",
    "import pandas as pd\n",
    "import random\n",
    "import json \n",
    "from pandas.io.json import json_normalize\n",
    "\n",
    "\n",
    "df = pd.read_csv(\"/Users/veillonpaul-armand/Documents/Projets/Data/Carto/COMARR_conso.csv\",sep = ';')\n",
    "df2 = pd.read_csv('/Users/veillonpaul-armand/Documents/Projets/Data/Carto/correspondance-code-insee-code-postal.csv',sep=\";\")\n",
    "df2=df2.drop([\"Code Canton\",\"Code Arrondissement\",\"ID Geofla\",\"Commune\",\"Département\",\"Région\"],axis=1)\n",
    "\n"
   ]
  },
  {
   "cell_type": "code",
   "execution_count": null,
   "metadata": {},
   "outputs": [],
   "source": [
    "#Merge on df\n",
    "df=df.merge(df2,how=\"right\",left_on=\"CODGEO\", right_on=\"Code INSEE\")\n",
    "\n",
    "#Pour les codes postales avec plusieur communes, assignés au CP la population moyenne pondérée des villages\n",
    "df['Counts'] = df.groupby(['Code Postal'])['CODGEO'].transform('count')\n",
    "df['POP_CP'] = df.groupby(['Code Postal'])['Population'].transform('sum')\n",
    "df['POP_mean_CP']=df['Population'] **2/df['POP_CP']\n",
    "df['POP_mean_CP']=df.groupby(['Code Postal'])['POP_mean_CP'].transform('sum')\n",
    "df.head(5)\n",
    "\n",
    "\n"
   ]
  },
  {
   "cell_type": "code",
   "execution_count": null,
   "metadata": {},
   "outputs": [],
   "source": [
    "df['CP_TUU']=df.groupby(['Code Postal'])['TUU2015'].transform(\"max\")\n",
    "print(df.groupby(['CP_TUU'])['CODGEO'].count())\n",
    "\n",
    "df=df[[\"Code Région\",\"Code Département\",\"Code Postal\",\"Code INSEE\",\"Counts\",\"POP_CP\",\"POP_mean_CP\",\"CP_TUU\",\"LIBGEO\"]]\n",
    "df=df.drop_duplicates([\"Code Région\",\"Code Département\",\"Code Postal\"])\n",
    "\n"
   ]
  },
  {
   "cell_type": "code",
   "execution_count": null,
   "metadata": {},
   "outputs": [],
   "source": [
    "\n",
    "df.groupby(['CP_TUU'])['Code INSEE'].count()\n",
    "vec=df.loc[df[\"Code Postal\"].str.find(\"/\")!=(-1),\"Code Postal\"]\n",
    "\n",
    "\n"
   ]
  },
  {
   "cell_type": "code",
   "execution_count": null,
   "metadata": {},
   "outputs": [],
   "source": [
    "vec=df.loc[df[\"Code Postal\"].str.find(\"/\")!=(-1),\"Code Postal\"]\n",
    "m=df.shape[0] \n",
    "\n",
    "for i in vec:\n",
    "    cp=i.split(\"/\")\n",
    "    df_bis=df[df[\"Code Postal\"]==i] \n",
    "   \n",
    "    for j in cp:\n",
    "        df_bis[\"Code Postal\"]=j\n",
    "        df=pd.concat([df,df_bis])\n",
    "\n",
    "df.reset_index(inplace=True)\n",
    "df.drop(columns=['index'],inplace=True)\n",
    "df=df[~df[\"Code Postal\"].isin(vec)]\n",
    "df.head(5)\n",
    "\n",
    "\n",
    "    "
   ]
  },
  {
   "cell_type": "code",
   "execution_count": null,
   "metadata": {},
   "outputs": [],
   "source": [
    "df.to_csv(\"/Users/veillonpaul-armand/Documents/Projets/Data/Carto/CP_conso.csv\")"
   ]
  },
  {
   "cell_type": "code",
   "execution_count": null,
   "metadata": {},
   "outputs": [],
   "source": [
    "#Merge with data grand débat\n",
    "with open(\"/Users/veillonpaul-armand/Documents/Projets/Data/LA_FISCALITE_ET_LES_DEPENSES_PUBLIQUES_short.json\") as json_file:\n",
    "    json_data = json.load(json_file) # or geojson.load(json_file)\n",
    "df_GN=json_normalize(json_data)\n",
    "df_GN['Thème']=\"Fiscalité\"\n",
    "\n",
    "with open(\"/Users/veillonpaul-armand/Documents/Projets/Data/LA_TRANSITION_ECOLOGIQUE_short.json\") as json_file:\n",
    "    json_data = json.load(json_file) # or geojson.load(json_file)\n",
    "df_GN1=json_normalize(json_data)\n",
    "df_GN1['Thème']=\"Transition Ecologique\"\n",
    "df_GN=pd.concat([df_GN,df_GN1])\n",
    "\n",
    "with open(\"/Users/veillonpaul-armand/Documents/Projets/Data/ORGANISATION_DE_LETAT_ET_DES_SERVICES_PUBLICS_short.json\") as json_file:\n",
    "    json_data = json.load(json_file) # or geojson.load(json_file)\n",
    "df_GN1=json_normalize(json_data)\n",
    "df_GN1['Thème']=\"Organisation de l'Etat\"\n",
    "df_GN=pd.concat([df_GN,df_GN1])\n",
    "\n",
    "with open(\"/Users/veillonpaul-armand/Documents/Projets/Data/DEMOCRATIE_ET_CITOYENNETE_short.json\") as json_file:\n",
    "    json_data = json.load(json_file) # or geojson.load(json_file)\n",
    "df_GN1=json_normalize(json_data)\n",
    "df_GN1['Thème']=\"Démocratie et Citoyenneté\"\n",
    "df_GN=pd.concat([df_GN,df_GN1])\n",
    "\n",
    "del df_GN1\n",
    "del json_data"
   ]
  },
  {
   "cell_type": "code",
   "execution_count": null,
   "metadata": {},
   "outputs": [],
   "source": [
    "\n",
    "#Cleaning CP\n",
    "df_GN[\"authorZipCode\"]=pd.to_numeric(df_GN[\"authorZipCode\"])\n",
    "df_GN.loc[df_GN[\"authorZipCode\"]<1000,\"authorZipCode\"]=np.nan\n",
    "df_GN.loc[df_GN[\"authorZipCode\"]>98999,\"authorZipCode\"]=np.nan\n",
    "df_GN[\"DEP\"]=df_GN[\"authorZipCode\"]/1000\n",
    "df_GN[\"DEP\"]=df_GN[\"DEP\"].fillna(0).astype('int')\n",
    "df_GN.groupby(['DEP'])['reference'].count()\n",
    "\n",
    "\n"
   ]
  },
  {
   "cell_type": "code",
   "execution_count": null,
   "metadata": {},
   "outputs": [],
   "source": [
    "#Create table at dep level\n",
    "pop = pd.read_csv(\"/Users/veillonpaul-armand/Documents/Projets/Data/Carto/pop_dep.csv\",sep = ';')\n",
    "\n",
    "#All contributions\n",
    "all_ref=df_GN.groupby(['DEP'])['reference'].count()\n",
    "all_ref=all_ref.to_frame()\n",
    "pop=pop.merge(all_ref,how=\"left\",on=\"DEP\")\n",
    "pop.rename( columns={\"reference\": \"Count_all\",\"Total\":\"Population\"},inplace=True)\n",
    "pop[\"Count_all\"]=pd.to_numeric(pop[\"Count_all\"])\n",
    "pop[\"Count_pourmil\"]=pop[\"Count_all\"]/pop[\"Population\"]*1000\n",
    "\n",
    "#Fisca\n",
    "all_ref=df_GN[df_GN[\"Thème\"]==\"Fiscalité\"].groupby(['DEP'])['reference'].count()\n",
    "all_ref=all_ref.to_frame()\n",
    "pop=pop.merge(all_ref,how=\"left\",on=\"DEP\")\n",
    "pop.rename( columns={\"reference\": \"Count_fisca\"},inplace=True)\n",
    "pop[\"Count_fisca\"]=pd.to_numeric(pop[\"Count_fisca\"])\n",
    "pop[\"perc_fisca\"]=pop[\"Count_fisca\"]/pop[\"Count_all\"]\n",
    "\n",
    "#Ecologie\n",
    "all_ref=df_GN[df_GN[\"Thème\"]==\"Transition Ecologique\"].groupby(['DEP'])['reference'].count()\n",
    "all_ref=all_ref.to_frame()\n",
    "pop=pop.merge(all_ref,how=\"left\",on=\"DEP\")\n",
    "pop.rename( columns={\"reference\": \"Count_ecolo\"},inplace=True)\n",
    "pop[\"Count_ecolo\"]=pd.to_numeric(pop[\"Count_ecolo\"])\n",
    "pop[\"perc_ecolo\"]=pop[\"Count_ecolo\"]/pop[\"Count_all\"]\n",
    "\n",
    "#Citoyenneté\n",
    "all_ref=df_GN[df_GN[\"Thème\"]==\"Démocratie et Citoyenneté\"].groupby(['DEP'])['reference'].count()\n",
    "all_ref=all_ref.to_frame()\n",
    "pop=pop.merge(all_ref,how=\"left\",on=\"DEP\")\n",
    "pop.rename( columns={\"reference\": \"Count_cit\"},inplace=True)\n",
    "pop[\"Count_cit\"]=pd.to_numeric(pop[\"Count_cit\"])\n",
    "pop[\"perc_cit\"]=pop[\"Count_cit\"]/pop[\"Count_all\"]\n",
    "\n",
    "#Etat\n",
    "all_ref=df_GN[df_GN[\"Thème\"]==\"Organisation de l'Etat\"].groupby(['DEP'])['reference'].count()\n",
    "all_ref=all_ref.to_frame()\n",
    "pop=pop.merge(all_ref,how=\"left\",on=\"DEP\")\n",
    "pop.rename( columns={\"reference\": \"Count_etat\"},inplace=True)\n",
    "pop[\"Count_etat\"]=pd.to_numeric(pop[\"Count_etat\"])\n",
    "pop[\"perc_etat\"]=pop[\"Count_etat\"]/pop[\"Count_all\"]\n",
    "\n",
    "pop.to_csv(\"/Users/veillonpaul-armand/Documents/Projets/Data/Carto/GN_conso_dep_level.csv\")"
   ]
  },
  {
   "cell_type": "code",
   "execution_count": null,
   "metadata": {},
   "outputs": [],
   "source": []
  },
  {
   "cell_type": "code",
   "execution_count": null,
   "metadata": {},
   "outputs": [],
   "source": [
    "pop[\"Count_pourmil\"].hist()"
   ]
  },
  {
   "cell_type": "code",
   "execution_count": null,
   "metadata": {},
   "outputs": [],
   "source": [
    "pop[\"perc_fisca\"].hist()"
   ]
  },
  {
   "cell_type": "code",
   "execution_count": null,
   "metadata": {},
   "outputs": [],
   "source": [
    "pop[\"perc_ecolo\"].hist()"
   ]
  },
  {
   "cell_type": "code",
   "execution_count": null,
   "metadata": {},
   "outputs": [],
   "source": [
    "pop[\"perc_etat\"].hist()"
   ]
  },
  {
   "cell_type": "code",
   "execution_count": null,
   "metadata": {},
   "outputs": [],
   "source": [
    "pop[\"perc_cit\"].hist()"
   ]
  },
  {
   "cell_type": "code",
   "execution_count": null,
   "metadata": {},
   "outputs": [],
   "source": []
  }
 ],
 "metadata": {
  "kernelspec": {
   "display_name": "Python 3",
   "language": "python",
   "name": "python3"
  },
  "language_info": {
   "codemirror_mode": {
    "name": "ipython",
    "version": 3
   },
   "file_extension": ".py",
   "mimetype": "text/x-python",
   "name": "python",
   "nbconvert_exporter": "python",
   "pygments_lexer": "ipython3",
   "version": "3.6.5"
  }
 },
 "nbformat": 4,
 "nbformat_minor": 2
}
